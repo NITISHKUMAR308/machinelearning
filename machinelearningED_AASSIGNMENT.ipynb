{
  "nbformat": 4,
  "nbformat_minor": 0,
  "metadata": {
    "colab": {
      "private_outputs": true,
      "provenance": []
    },
    "kernelspec": {
      "name": "python3",
      "display_name": "Python 3"
    },
    "language_info": {
      "name": "python"
    }
  },
  "cells": [
    {
      "cell_type": "code",
      "source": [
        "from google.colab import files\n",
        "import pandas as pd\n",
        "\n",
        "uploaded = files.upload()\n",
        "df = pd.read_csv('BIKE DETAILS.csv')\n",
        "df.head()\n",
        "df.info()\n"
      ],
      "metadata": {
        "id": "18KEJKA3i_uX"
      },
      "execution_count": null,
      "outputs": []
    },
    {
      "cell_type": "code",
      "source": [
        "import pandas as pd\n",
        "\n",
        "file_path = 'BIKE DETAILS.csv'\n",
        "bike_data = pd.read_csv(file_path)\n",
        "\n",
        "bike_data.head()\n"
      ],
      "metadata": {
        "id": "Cg5ccTqvjd3s"
      },
      "execution_count": null,
      "outputs": []
    },
    {
      "cell_type": "code",
      "source": [
        "# Calculate the range of selling prices\n",
        "selling_price_range = bike_data['selling_price'].min(), bike_data['selling_price'].max()\n",
        "selling_price_range\n"
      ],
      "metadata": {
        "id": "O288-luijrlh"
      },
      "execution_count": null,
      "outputs": []
    },
    {
      "cell_type": "code",
      "source": [
        "# Calculate the median selling price\n",
        "median_selling_price = bike_data['selling_price'].median()\n",
        "median_selling_price\n"
      ],
      "metadata": {
        "id": "u40umWtpkPCy"
      },
      "execution_count": null,
      "outputs": []
    },
    {
      "cell_type": "code",
      "source": [
        "most_common_seller_type = bike_data['seller_type'].mode()[0]\n",
        "print(most_common_seller_type)\n"
      ],
      "metadata": {
        "id": "jVCQBcCMkVSS"
      },
      "execution_count": null,
      "outputs": []
    },
    {
      "cell_type": "code",
      "source": [
        "bikes_above_50k_km = bike_data[bike_data['km_driven'] > 50000].shape[0]\n",
        "print(bikes_above_50k_km)\n"
      ],
      "metadata": {
        "id": "PuNDizqokZ2a"
      },
      "execution_count": null,
      "outputs": []
    },
    {
      "cell_type": "code",
      "source": [
        "average_km_by_owner = bike_data.groupby('owner')['km_driven'].mean()\n",
        "print(average_km_by_owner)\n"
      ],
      "metadata": {
        "id": "Eu2MnBg9kd9a"
      },
      "execution_count": null,
      "outputs": []
    },
    {
      "cell_type": "code",
      "source": [
        "proportion_2015_or_older = (bike_data[bike_data['year'] <= 2015].shape[0] / bike_data.shape[0]) * 100\n",
        "print(proportion_2015_or_older)\n"
      ],
      "metadata": {
        "id": "RcVmGVZXkgcl"
      },
      "execution_count": null,
      "outputs": []
    },
    {
      "cell_type": "code",
      "source": [
        "missing_values = bike_data.isnull().sum()\n",
        "print(missing_values)\n"
      ],
      "metadata": {
        "id": "wqV-Jm3dkjCx"
      },
      "execution_count": null,
      "outputs": []
    },
    {
      "cell_type": "code",
      "source": [
        "highest_ex_showroom_price = bike_data.loc[bike_data['ex_showroom_price'].idxmax()]\n",
        "print(highest_ex_showroom_price)\n"
      ],
      "metadata": {
        "id": "N__iCCHukl-i"
      },
      "execution_count": null,
      "outputs": []
    },
    {
      "cell_type": "code",
      "source": [
        "bikes_by_seller_type = bike_data['seller_type'].value_counts()\n",
        "print(bikes_by_seller_type)\n"
      ],
      "metadata": {
        "id": "GlCZeGWSkrD5"
      },
      "execution_count": null,
      "outputs": []
    },
    {
      "cell_type": "code",
      "source": [
        "import matplotlib.pyplot as plt\n",
        "\n",
        "first_owner_bikes = bike_data[bike_data['owner'] == '1st owner']\n",
        "plt.scatter(first_owner_bikes['km_driven'], first_owner_bikes['selling_price'])\n",
        "plt.xlabel('Kilometers Driven')\n",
        "plt.ylabel('Selling Price')\n",
        "plt.title('Selling Price vs. KM Driven (1st Owner Bikes)')\n",
        "plt.show()\n"
      ],
      "metadata": {
        "id": "0QQ_UxCQkxzb"
      },
      "execution_count": null,
      "outputs": []
    },
    {
      "cell_type": "code",
      "source": [
        "Q1 = bike_data['km_driven'].quantile(0.25)\n",
        "Q3 = bike_data['km_driven'].quantile(0.75)\n",
        "IQR = Q3 - Q1\n",
        "lower_bound = Q1 - 1.5 * IQR\n",
        "upper_bound = Q3 + 1.5 * IQR\n",
        "\n",
        "bike_data_no_outliers = bike_data[(bike_data['km_driven'] >= lower_bound) & (bike_data['km_driven'] <= upper_bound)]\n",
        "print(bike_data_no_outliers)\n"
      ],
      "metadata": {
        "id": "1SNiDLLLk0qM"
      },
      "execution_count": null,
      "outputs": []
    },
    {
      "cell_type": "code",
      "source": [
        "plt.scatter(bike_data['year'], bike_data['selling_price'])\n",
        "plt.xlabel('Year')\n",
        "plt.ylabel('Selling Price')\n",
        "plt.title('Year vs. Selling Price')\n",
        "plt.show()\n"
      ],
      "metadata": {
        "id": "iv9DVxOVk20p"
      },
      "execution_count": null,
      "outputs": []
    },
    {
      "cell_type": "code",
      "source": [
        "current_year = 2025\n",
        "bike_data['age'] = current_year - bike_data['year']\n",
        "average_depreciation = bike_data.groupby('age')['selling_price'].mean()\n",
        "print(average_depreciation)\n"
      ],
      "metadata": {
        "id": "09hl0E4xk6T6"
      },
      "execution_count": null,
      "outputs": []
    },
    {
      "cell_type": "code",
      "source": [
        "average_price_by_year = bike_data.groupby('year')['selling_price'].mean()\n",
        "above_avg_bikes = bike_data[bike_data.apply(lambda x: x['selling_price'] > average_price_by_year[x['year']], axis=1)]\n",
        "print(above_avg_bikes[['name', 'year', 'selling_price']])\n"
      ],
      "metadata": {
        "id": "xbb3zRZJk7uh"
      },
      "execution_count": null,
      "outputs": []
    },
    {
      "cell_type": "code",
      "source": [
        "\n",
        "import pandas as pd\n",
        "import seaborn as sns\n",
        "import matplotlib.pyplot as plt\n",
        "\n",
        "\n",
        "from google.colab import files\n",
        "uploaded = files.upload()\n",
        "\n",
        "\n",
        "df = pd.read_csv('BIKE DETAILS.csv')\n",
        "\n",
        "\n",
        "numeric_columns = df.select_dtypes(include=['float64', 'int64'])\n",
        "\n",
        "\n",
        "numeric_columns = numeric_columns.fillna(0)\n",
        "\n",
        "\n",
        "correlation_matrix = numeric_columns.corr()\n",
        "\n",
        "\n",
        "plt.figure(figsize=(10, 8))\n",
        "sns.heatmap(correlation_matrix, annot=True, cmap='coolwarm', fmt=\".2f\")\n",
        "plt.title('Correlation Matrix of Numeric Features')\n",
        "plt.show()\n"
      ],
      "metadata": {
        "id": "tN61BGFDk_eK"
      },
      "execution_count": null,
      "outputs": []
    },
    {
      "cell_type": "markdown",
      "source": [
        "car section\n"
      ],
      "metadata": {
        "id": "0LzsRDYznRmQ"
      }
    },
    {
      "cell_type": "code",
      "source": [
        "from google.colab import files\n",
        "import pandas as pd\n",
        "\n",
        "uploaded = files.upload()\n",
        "df = pd.read_csv('Car Sale.csv')\n",
        "df.head()\n",
        "df.info()\n",
        "\n"
      ],
      "metadata": {
        "id": "CWTL0tKBmswa"
      },
      "execution_count": null,
      "outputs": []
    },
    {
      "cell_type": "code",
      "source": [
        "# What is the average selling price of cars for each dealer, and how does it compare across different dealers\n",
        "dealer_avg_price = df.groupby('Dealer_Name')['Price ($)'].mean().sort_values(ascending=False)\n",
        "print(dealer_avg_price)\n",
        "\n",
        "\n",
        "#"
      ],
      "metadata": {
        "id": "s5ifGZ5fmuwi"
      },
      "execution_count": null,
      "outputs": []
    },
    {
      "cell_type": "code",
      "source": [
        "# Which car brand (Company) has the highest variation in prices, and what does this tell us about the pricing\n",
        "brand_price_variation = df.groupby('Company')['Price ($)'].std().sort_values(ascending=False)\n",
        "print(brand_price_variation)\n"
      ],
      "metadata": {
        "id": "WCXloYhgn7Zp"
      },
      "execution_count": null,
      "outputs": []
    },
    {
      "cell_type": "code",
      "source": [
        "# What is the distribution of car prices for each transmission type, and how do the interquartile ranges campare?\n",
        "sns.boxplot(x='Transmission', y='Price ($)', data=df)\n",
        "plt.title('Distribution of Car Prices by Transmission Type')\n",
        "plt.show()\n"
      ],
      "metadata": {
        "id": "BBU13wsAoLoh"
      },
      "execution_count": null,
      "outputs": []
    },
    {
      "cell_type": "code",
      "source": [
        "sns.boxplot(x='Dealer_Region', y='Price ($)', data=df)\n",
        "plt.title('Distribution of Car Prices by Region')\n",
        "plt.show()\n"
      ],
      "metadata": {
        "id": "Xh1tMDuzobvx"
      },
      "execution_count": null,
      "outputs": []
    },
    {
      "cell_type": "code",
      "source": [
        "body_style_distribution = df['Body Style'].value_counts()\n",
        "print(body_style_distribution)\n",
        "body_style_distribution.plot(kind='bar', title='Car Distribution by Body Style')\n",
        "plt.show()\n"
      ],
      "metadata": {
        "id": "V8lYVaD1oeSD"
      },
      "execution_count": null,
      "outputs": []
    },
    {
      "cell_type": "code",
      "source": [
        "gender_income_price = df.groupby(['Gender', pd.cut(df['Annual Income'], bins=5)])['Price ($)'].mean()\n",
        "print(gender_income_price)\n"
      ],
      "metadata": {
        "id": "Zelj6rcJoiv4"
      },
      "execution_count": null,
      "outputs": []
    },
    {
      "cell_type": "code",
      "source": [
        "region_price_distribution = df.groupby('Dealer_Region')['Price ($)'].mean()\n",
        "print(region_price_distribution)\n",
        "\n",
        "region_car_count = df['Dealer_Region'].value_counts()\n",
        "print(region_car_count)\n"
      ],
      "metadata": {
        "id": "1FqIHsrGoppR"
      },
      "execution_count": null,
      "outputs": []
    },
    {
      "cell_type": "code",
      "source": [
        "engine_avg_price = df.groupby('Engine')['Price ($)'].mean()\n",
        "print(engine_avg_price)\n"
      ],
      "metadata": {
        "id": "a9bebwzgorEq"
      },
      "execution_count": null,
      "outputs": []
    },
    {
      "cell_type": "code",
      "source": [
        "income_bracket_price = df.groupby(pd.cut(df['Annual Income'], bins=5))['Price ($)'].mean()\n",
        "print(income_bracket_price)\n"
      ],
      "metadata": {
        "id": "N53f3B5Rosu5"
      },
      "execution_count": null,
      "outputs": []
    },
    {
      "cell_type": "code",
      "source": [
        "top_5_models = df['Model'].value_counts().head(5)\n",
        "print(top_5_models)\n",
        "\n",
        "# Price distribution for these models\n",
        "sns.boxplot(x='Model', y='Price ($)', data=df[df['Model'].isin(top_5_models.index)])\n",
        "plt.title('Price Distribution of Top 5 Models')\n",
        "plt.show()\n"
      ],
      "metadata": {
        "id": "nCpeL4K5owcx"
      },
      "execution_count": null,
      "outputs": []
    },
    {
      "cell_type": "code",
      "source": [
        "color_engine_price = df.groupby(['Color', 'Engine'])['Price ($)'].std()\n",
        "print(color_engine_price)\n"
      ],
      "metadata": {
        "id": "XyPE3n4AoyYS"
      },
      "execution_count": null,
      "outputs": []
    },
    {
      "cell_type": "code",
      "source": [
        "df['Date'] = pd.to_datetime(df['Date'])\n",
        "df['Month'] = df['Date'].dt.month\n",
        "\n",
        "monthly_sales = df.groupby('Month')['Car_id'].count()\n",
        "monthly_sales.plot(kind='line', title='Seasonal Car Sales Trend')\n",
        "plt.show()\n"
      ],
      "metadata": {
        "id": "IE_kJqnVo0um"
      },
      "execution_count": null,
      "outputs": []
    },
    {
      "cell_type": "code",
      "source": [
        "sns.boxplot(x='Body Style', y='Price ($)', hue='Transmission', data=df)\n",
        "plt.title('Price Distribution by Body Style and Transmission')\n",
        "plt.show()\n"
      ],
      "metadata": {
        "id": "SZRx49lvo3FB"
      },
      "execution_count": null,
      "outputs": []
    },
    {
      "cell_type": "code",
      "source": [
        "correlation_data = df[['Price ($)', 'Engine', 'Annual Income']].copy()\n",
        "\n",
        "# Convert Engine to numeric if needed\n",
        "correlation_data['Engine'] = correlation_data['Engine'].str.extract('(\\d+)').astype(float)\n",
        "\n",
        "sns.heatmap(correlation_data.corr(), annot=True, cmap='coolwarm')\n",
        "plt.title('Correlation Matrix')\n",
        "plt.show()\n"
      ],
      "metadata": {
        "id": "Z7ruPPvCo4qh"
      },
      "execution_count": null,
      "outputs": []
    },
    {
      "cell_type": "code",
      "source": [
        "model_engine_avg_price = df.groupby(['Model', 'Engine'])['Price ($)'].mean()\n",
        "print(model_engine_avg_price)\n"
      ],
      "metadata": {
        "id": "0CikMx69o8Rr"
      },
      "execution_count": null,
      "outputs": []
    },
    {
      "cell_type": "markdown",
      "source": [
        "amazon sales\n"
      ],
      "metadata": {
        "id": "RRpvb2_rpGpY"
      }
    },
    {
      "cell_type": "code",
      "source": [
        "import pandas as pd\n",
        "import gdown\n",
        "\n",
        "# File ID and output file name\n",
        "file_id = \"1yKlW0x5yyRQijmWbEg5YCsq4wqLl3_oB\"\n",
        "output_file = \"amazon.csv\"\n",
        "\n",
        "# Download the file\n",
        "gdown.download(f\"https://drive.google.com/uc?id={file_id}\", output_file, quiet=False)\n",
        "\n",
        "# Load the dataset\n",
        "amazon_data = pd.read_csv(output_file)\n",
        "\n",
        "# Preview the data\n",
        "print(amazon_data.head())\n"
      ],
      "metadata": {
        "id": "ckGp1_Jsue7n"
      },
      "execution_count": null,
      "outputs": []
    },
    {
      "cell_type": "code",
      "source": [
        "# Calculate average rating by category\n",
        "# Convert 'rating' column to numeric, handling errors\n",
        "amazon_data['rating'] = pd.to_numeric(amazon_data['rating'], errors='coerce')\n",
        "\n",
        "# Now calculate the average rating\n",
        "avg_rating_per_category = amazon_data.groupby('category')['rating'].mean()\n",
        "\n",
        "print(\"Average Rating by Category:\")\n",
        "print(avg_rating_per_category)"
      ],
      "metadata": {
        "id": "c8w4zSCwxeYD"
      },
      "execution_count": null,
      "outputs": []
    },
    {
      "cell_type": "code",
      "source": [
        "# What are the top rating_count products by category?\n",
        "import pandas as pd\n",
        "\n",
        "# Assuming 'amazon_data' is your DataFrame\n",
        "\n",
        "# Convert 'rating_count' to numeric if needed\n",
        "amazon_data['rating_count'] = pd.to_numeric(amazon_data['rating_count'], errors='coerce')\n",
        "\n",
        "def get_top_products_by_rating_count(data, category, top_n=5):\n",
        "  \"\"\"\n",
        "  Returns the top N products by rating_count within a given category.\n",
        "  \"\"\"\n",
        "  category_data = data[data['category'] == category]\n",
        "  top_products = category_data.sort_values(by=['rating_count'], ascending=False).head(top_n)\n",
        "  return top_products[['product_name', 'rating_count']]\n",
        "\n",
        "# Example usage: Get top 5 products in 'Electronics' category\n",
        "top_electronics = get_top_products_by_rating_count(amazon_data, 'Electronics', top_n=5)\n",
        "print(\"Top Products in Electronics by Rating Count:\")\n",
        "print(top_electronics)\n",
        "\n",
        "# To get top products for all categories:\n",
        "for category in amazon_data['category'].unique():\n",
        "  top_products = get_top_products_by_rating_count(amazon_data, category)\n",
        "  print(f\"\\nTop Products in {category} by Rating Count:\")\n",
        "  print(top_products)"
      ],
      "metadata": {
        "id": "a1L0jTw6xuKX"
      },
      "execution_count": null,
      "outputs": []
    },
    {
      "cell_type": "code",
      "source": [
        "# What is the distribution of discounted prices vs. actual prices?\n",
        "\n",
        "import pandas as pd\n",
        "import matplotlib.pyplot as plt\n",
        "import seaborn as sns\n",
        "\n",
        "# Assuming 'amazon_data' is your DataFrame and has 'actual_price' and 'discounted_price' columns\n",
        "\n",
        "# Convert price columns to numeric, handling errors\n",
        "amazon_data['discounted_price'] = pd.to_numeric(amazon_data['discounted_price'].str.replace(',', '').str.replace('₹', ''), errors='coerce')\n",
        "amazon_data['actual_price'] = pd.to_numeric(amazon_data['actual_price'].str.replace(',', '').str.replace('₹', ''), errors='coerce')\n",
        "\n",
        "\n",
        "# Calculate the discounted price\n",
        "amazon_data['discount_amount'] = amazon_data['actual_price'] - amazon_data['discounted_price']\n",
        "\n",
        "# Distribution using histogram\n",
        "plt.figure(figsize=(10, 6))\n",
        "plt.hist(amazon_data['actual_price'], bins=20, alpha=0.5, label='Actual Price')\n",
        "plt.hist(amazon_data['discounted_price'], bins=20, alpha=0.5, label='Discounted Price')\n",
        "plt.xlabel('Price')\n",
        "plt.ylabel('Frequency')\n",
        "plt.title('Distribution of Actual vs. Discounted Prices (Histogram)')\n",
        "plt.legend()\n",
        "plt.show()\n",
        "\n",
        "# Distribution using kernel density plot\n",
        "plt.figure(figsize=(10, 6))\n",
        "sns.kdeplot(amazon_data['actual_price'], label='Actual Price')\n",
        "sns.kdeplot(amazon_data['discounted_price'], label='Discounted Price')\n",
        "plt.xlabel('Price')\n",
        "plt.ylabel('Density')\n",
        "plt.title('Distribution of Actual vs. Discounted Prices (KDE Plot)')\n",
        "plt.legend()\n",
        "plt.show()\n",
        "\n",
        "# Distribution of discount amount\n",
        "plt.figure(figsize=(10, 6))\n",
        "plt.hist(amazon_data['discount_amount'], bins=20, alpha=0.7)\n",
        "plt.xlabel('Discount Amount')\n",
        "plt.ylabel('Frequency')\n",
        "plt.title('Distribution of Discount Amounts')\n",
        "plt.show()"
      ],
      "metadata": {
        "id": "MTM6h9xvx5NY"
      },
      "execution_count": null,
      "outputs": []
    },
    {
      "cell_type": "code",
      "source": [
        "import pandas as pd\n",
        "\n",
        "# Assuming 'amazon_data' is your DataFrame with 'actual_price', 'discounted_price', and 'category' columns\n",
        "\n",
        "# Convert price columns to numeric if not already\n",
        "amazon_data['discounted_price'] = pd.to_numeric(amazon_data['discounted_price'].str.replace(',', '').str.replace('₹', ''), errors='coerce')\n",
        "amazon_data['actual_price'] = pd.to_numeric(amazon_data['actual_price'].str.replace(',', '').str.replace('₹', ''), errors='coerce')\n",
        "\n",
        "# Calculate discount percentage\n",
        "amazon_data['discount_percentage'] = ((amazon_data['actual_price'] - amazon_data['discounted_price']) / amazon_data['actual_price']) * 100\n",
        "\n",
        "# Group by category and calculate average discount percentage\n",
        "avg_discount_by_category = amazon_data.groupby('category')['discount_percentage'].mean()\n",
        "\n",
        "# Print the results\n",
        "print(\"Average Discount Percentage by Category:\")\n",
        "print(avg_discount_by_category)\n",
        "\n",
        "# Optional: Sort by discount percentage\n",
        "sorted_avg_discount = avg_discount_by_category.sort_values(ascending=False)\n",
        "print(\"\\nSorted Average Discount Percentage by Category (Descending):\")\n",
        "print(sorted_avg_discount)"
      ],
      "metadata": {
        "id": "9XUMHhh3yvrR"
      },
      "execution_count": null,
      "outputs": []
    },
    {
      "cell_type": "code",
      "source": [
        "import pandas as pd\n",
        "\n",
        "# Assuming 'amazon_data' is your DataFrame\n",
        "\n",
        "# Get the most popular product names\n",
        "popular_products = amazon_data['product_name'].value_counts().head(10)  # Get top 10 by default\n",
        "\n",
        "# Print the results\n",
        "print(\"Most Popular Product Names:\")\n",
        "print(popular_products)"
      ],
      "metadata": {
        "id": "mRt1yNoYy53B"
      },
      "execution_count": null,
      "outputs": []
    },
    {
      "cell_type": "code",
      "source": [
        "import pandas as pd\n",
        "from collections import Counter\n",
        "\n",
        "# Assuming 'amazon_data' is your DataFrame\n",
        "\n",
        "# Combine all product names into a single string\n",
        "all_product_names = ' '.join(amazon_data['product_name'].astype(str).tolist())\n",
        "\n",
        "# Split the string into individual words\n",
        "words = all_product_names.lower().split()\n",
        "\n",
        "# Count the frequency of each word\n",
        "word_counts = Counter(words)\n",
        "\n",
        "# Get the most common words (excluding common English words)\n",
        "stop_words = ['for', 'with', 'and', 'the', 'of', 'in', 'to', 'a', 'is', 'that', 'it', 'as', 'are', 'on', 'by', 'be']  # Add more stop words as needed\n",
        "popular_keywords = [(word, count) for word, count in word_counts.most_common(20) if word not in stop_words]\n",
        "\n",
        "# Print the results\n",
        "print(\"Most Popular Product Keywords:\")\n",
        "for keyword, count in popular_keywords:\n",
        "    print(f\"{keyword}: {count}\")"
      ],
      "metadata": {
        "id": "KDrw-5zuy8O-"
      },
      "execution_count": null,
      "outputs": []
    },
    {
      "cell_type": "code",
      "source": [
        "import pandas as pd\n",
        "\n",
        "# Assuming 'amazon_data' is your DataFrame\n",
        "\n",
        "# Sort by rating count and get top 10 products\n",
        "popular_products_by_reviews = amazon_data.sort_values(by=['rating_count'], ascending=False).head(10)\n",
        "\n",
        "# Print results\n",
        "print(\"Most Popular Products by Review Count:\")\n",
        "print(popular_products_by_reviews[['product_name', 'rating_count']])"
      ],
      "metadata": {
        "id": "7dCcJeCAzGGI"
      },
      "execution_count": null,
      "outputs": []
    },
    {
      "cell_type": "code",
      "source": [
        "import pandas as pd\n",
        "\n",
        "# Assuming 'amazon_data' is your DataFrame\n",
        "\n",
        "# Convert price columns to numeric if not already\n",
        "amazon_data['discounted_price'] = pd.to_numeric(amazon_data['discounted_price'].str.replace(',', '').str.replace('₹', ''), errors='coerce')\n",
        "\n",
        "# Calculate correlation\n",
        "correlation = amazon_data['discounted_price'].corr(amazon_data['rating'])\n",
        "\n",
        "# Print the result\n",
        "print(f\"Correlation between discounted_price and rating: {correlation}\")"
      ],
      "metadata": {
        "id": "Qr5Ae4x0zOon"
      },
      "execution_count": null,
      "outputs": []
    },
    {
      "cell_type": "code",
      "source": [
        "#  What are the Top 5 categories based on the highest ratings\n",
        "\n",
        "import pandas as pd\n",
        "\n",
        "# Assuming 'amazon_data' is your DataFrame and 'rating' is a numeric column\n",
        "\n",
        "# Group by category and calculate average rating\n",
        "avg_rating_by_category = amazon_data.groupby('category')['rating'].mean()\n",
        "\n",
        "# Sort by average rating and get top 5\n",
        "top_5_categories = avg_rating_by_category.sort_values(ascending=False).head(5)\n",
        "\n",
        "# Print the results\n",
        "print(\"Top 5 Categories by Highest Average Rating:\")\n",
        "print(top_5_categories)"
      ],
      "metadata": {
        "id": "ZQfULTvpzWBA"
      },
      "execution_count": null,
      "outputs": []
    },
    {
      "cell_type": "markdown",
      "source": [
        "1. Pricing and Discounts:\n",
        "\n",
        "Optimize Discount Strategies\n",
        "Price Sensitivity Analysis\n",
        "Targeted Promotions: Consider offering targeted promotions or discounts on specific products or categories based on their popularity, rating counts, and price sensitivity.\n",
        "2. Product and Category Management:\n",
        "Focus on Popular Products: The analysis of popular product names and keywords provides insights into customer preferences. Leverage this information to prioritize marketing and promotion efforts on these popular products.\n",
        "Improve Underperforming Categories: Categories with lower average ratings or lower sales volume should be investigated for potential improvements in product quality, features, or marketing strategies.\n",
        "Expand Popular Categories: Consider expanding product offerings in categories with high average ratings and high sales volume to capitalize on customer interest.\n",
        "Product Keyword Optimization: Utilize the insights from popular product keywords to optimize product titles and descriptions for better search visibility and customer engagement.\n",
        "3. Customer Experience:\n",
        "\n",
        "Address Negative Reviews: Analyze the content of reviews (if available) for popular products or underperforming categories to identify common customer complaints or issues. Address these concerns to improve product quality and customer satisfaction.\n",
        "Encourage Reviews: Implement strategies to encourage more customer reviews, as products with higher review counts tend to have higher visibility and trust among customers.\n",
        "Personalization and Recommendations: Explore opportunities for personalized product recommendations based on customer purchase history, browsing behavior, and preferences. This can enhance the customer experience and drive sales.\n",
        "4. Inventory Management:\n",
        "Optimize Stock Levels: Analyze sales data and product popularity to optimize stock levels for different products. This can help reduce inventory costs and avoid stockouts of popular items.\n",
        "Demand Forecasting: Implement demand forecasting models to predict future sales and adjust inventory levels accordingly. This can improve efficiency and reduce waste.\n",
        "5. Data Quality and Analysis:\n",
        "Enhance Data Collection: Continuously improve data collection practices to ensure data accuracy and completeness. This is essential for making informed business decisions.\n",
        "Advanced Analytics: Explore more advanced analytical techniques like customer segmentation, market basket analysis, and predictive modeling to gain deeper insights and identify further opportunities for improvement.\n",
        "By implementing these improvements and optimizations, businesses can enhance their operations, increase customer satisfaction, and drive growth and profitability. Remember that these are general recommendations, and specific actions should be tailored to the unique characteristics of your business and data."
      ],
      "metadata": {
        "id": "CGJ08ldezsUh"
      }
    },
    {
      "cell_type": "markdown",
      "source": [
        "SPOTIFY"
      ],
      "metadata": {
        "id": "ZfQfAshV0Sb-"
      }
    },
    {
      "cell_type": "code",
      "source": [
        "import pandas as pd\n",
        "\n",
        "uploaded = files.upload()\n",
        "df = pd.read_csv('spotify.csv')\n",
        "df.head()\n",
        "df.info()"
      ],
      "metadata": {
        "id": "8qRqCQUezfVy"
      },
      "execution_count": null,
      "outputs": []
    },
    {
      "cell_type": "code",
      "source": [
        "import pandas as pd\n",
        "import seaborn as sns\n",
        "import matplotlib.pyplot as plt\n",
        "\n",
        "# Load the dataset\n",
        "df = pd.read_csv('spotify.csv')\n",
        "\n",
        "# Check for null values\n",
        "print(\"Null Value Check:\")\n",
        "print(df.isnull().sum())\n",
        "\n",
        "# Drop rows with null values if any\n",
        "df = df.dropna()\n",
        "\n",
        "# Check for duplicates\n",
        "print(\"Duplicate Check:\")\n",
        "print(df.duplicated().sum())\n",
        "\n",
        "# Drop duplicates\n",
        "df = df.drop_duplicates()\n",
        "\n",
        "# Preview the cleaned dataset\n",
        "print(df.info())\n"
      ],
      "metadata": {
        "id": "f5LWLfMk0nPB"
      },
      "execution_count": null,
      "outputs": []
    },
    {
      "cell_type": "code",
      "source": [
        "plt.figure(figsize=(10, 6))\n",
        "sns.histplot(df['Popularity'], bins=20, kde=True, color='blue')\n",
        "plt.title(\"Distribution of Popularity Among Tracks\")\n",
        "plt.xlabel(\"Popularity\")\n",
        "plt.ylabel(\"Frequency\")\n",
        "plt.show()\n"
      ],
      "metadata": {
        "id": "SMG1YKRf01Yh"
      },
      "execution_count": null,
      "outputs": []
    },
    {
      "cell_type": "code",
      "source": [
        "plt.figure(figsize=(10, 6))\n",
        "sns.scatterplot(x=df['Duration (ms)'], y=df['Popularity'], alpha=0.7)\n",
        "plt.title(\"Relationship Between Popularity and Duration\")\n",
        "plt.xlabel(\"Duration (ms)\")\n",
        "plt.ylabel(\"Popularity\")\n",
        "plt.show()\n"
      ],
      "metadata": {
        "id": "3ZzwW_Yl021E"
      },
      "execution_count": null,
      "outputs": []
    },
    {
      "cell_type": "code",
      "source": [
        "plt.figure(figsize=(12, 6))\n",
        "top_artists = df['Artist'].value_counts().head(10)\n",
        "sns.countplot(data=df[df['Artist'].isin(top_artists.index)], y='Artist', order=top_artists.index, palette=\"viridis\")\n",
        "plt.title(\"Top 10 Artists with the Most Tracks\")\n",
        "plt.xlabel(\"Number of Tracks\")\n",
        "plt.ylabel(\"Artist\")\n",
        "plt.show()\n"
      ],
      "metadata": {
        "id": "8d1JQ6rc058_"
      },
      "execution_count": null,
      "outputs": []
    },
    {
      "cell_type": "code",
      "source": [
        "least_popular_tracks = df.nsmallest(5, 'Popularity')[['Artist', 'Track Name', 'Popularity']]\n",
        "print(\"Top 5 Least Popular Tracks:\")\n",
        "print(least_popular_tracks)\n"
      ],
      "metadata": {
        "id": "Ezq9LbmP07Iv"
      },
      "execution_count": null,
      "outputs": []
    },
    {
      "cell_type": "code",
      "source": [
        "top_5_artists = df['Artist'].value_counts().head(5).index\n",
        "avg_popularity = df[df['Artist'].isin(top_5_artists)].groupby('Artist')['Popularity'].mean().sort_values(ascending=False)\n",
        "\n",
        "print(\"Average Popularity for Top 5 Artists:\")\n",
        "print(avg_popularity)\n"
      ],
      "metadata": {
        "id": "_WbeUl2i08yR"
      },
      "execution_count": null,
      "outputs": []
    },
    {
      "cell_type": "code",
      "source": [
        "most_popular_tracks = df[df['Artist'].isin(top_5_artists)].sort_values(['Artist', 'Popularity'], ascending=[True, False])\n",
        "most_popular_tracks = most_popular_tracks.groupby('Artist').head(1)[['Artist', 'Track Name', 'Popularity']]\n",
        "\n",
        "print(\"Most Popular Tracks for Top 5 Artists:\")\n",
        "print(most_popular_tracks)\n"
      ],
      "metadata": {
        "id": "B8zs6-pF1Br3"
      },
      "execution_count": null,
      "outputs": []
    },
    {
      "cell_type": "code",
      "source": [
        "sns.pairplot(df[['Popularity', 'Duration (ms)']])\n",
        "plt.suptitle(\"Pair Plot of Numerical Variables\", y=1.02)\n",
        "plt.show()\n"
      ],
      "metadata": {
        "id": "abEbC__z1DFQ"
      },
      "execution_count": null,
      "outputs": []
    },
    {
      "cell_type": "code",
      "source": [
        "plt.figure(figsize=(14, 8))\n",
        "sns.violinplot(data=df, x='Artist', y='Duration (ms)', order=top_artists.index, palette=\"coolwarm\")\n",
        "plt.title(\"Duration of Tracks Across Different Artists\")\n",
        "plt.xlabel(\"Artist\")\n",
        "plt.ylabel(\"Duration (ms)\")\n",
        "plt.xticks(rotation=45)\n",
        "plt.show()\n"
      ],
      "metadata": {
        "id": "YnElv86B1E-w"
      },
      "execution_count": null,
      "outputs": []
    },
    {
      "cell_type": "code",
      "source": [
        "plt.figure(figsize=(14, 8))\n",
        "sns.swarmplot(data=df, x='Artist', y='Popularity', order=top_artists.index, palette=\"cool\")\n",
        "plt.title(\"Popularity Distribution Across Artists\")\n",
        "plt.xlabel(\"Artist\")\n",
        "plt.ylabel(\"Popularity\")\n",
        "plt.xticks(rotation=45)\n",
        "plt.show()\n"
      ],
      "metadata": {
        "id": "FWJomvOn1HIQ"
      },
      "execution_count": null,
      "outputs": []
    }
  ]
}