{
  "nbformat": 4,
  "nbformat_minor": 0,
  "metadata": {
    "colab": {
      "provenance": []
    },
    "kernelspec": {
      "name": "python3",
      "display_name": "Python 3"
    },
    "language_info": {
      "name": "python"
    }
  },
  "cells": [
    {
      "cell_type": "markdown",
      "source": [
        "### 1. **Can we use Bagging for regression problems?**\n",
        "\n",
        "**Yes.** Bagging can be used for both classification and regression tasks. For regression, it typically uses the **mean** of predictions from individual models.\n",
        "\n",
        "---\n",
        "\n",
        "### 2. **What is the difference between multiple model training and single model training?**\n",
        "\n",
        "* **Single model training:** Trains one model on the entire dataset.\n",
        "* **Multiple model training (Ensemble):** Trains multiple models and combines their outputs for better performance and generalization.\n",
        "\n",
        "---\n",
        "\n",
        "### 3. **Explain the concept of feature randomness in Random Forest.**\n",
        "\n",
        "Random Forest introduces feature randomness by selecting a **random subset of features** at each split in a decision tree, which increases diversity among trees and reduces correlation.\n",
        "\n",
        "---\n",
        "\n",
        "### 4. **What is OOB (Out-of-Bag) Score?**\n",
        "\n",
        "OOB Score is an internal validation score in Bagging/Random Forest. It is calculated using the samples **not included** in the bootstrap sample for each tree, acting as a test set.\n",
        "\n",
        "---\n",
        "\n",
        "### 5. **How can you measure the importance of features in a Random Forest model?**\n",
        "\n",
        "* By checking the **mean decrease in impurity (Gini/Entropy)** for classification.\n",
        "* Or **mean decrease in variance** for regression.\n",
        "* Higher decrease → more important feature.\n",
        "\n",
        "---\n",
        "\n",
        "### 6. **Explain the working principle of a Bagging Classifier.**\n",
        "\n",
        "1. Create multiple bootstrap samples.\n",
        "2. Train a base classifier (e.g., decision tree) on each sample.\n",
        "3. Combine predictions via **majority voting**.\n",
        "\n",
        "---\n",
        "\n",
        "### 7. **How do you evaluate a Bagging Classifier's performance?**\n",
        "\n",
        "Use standard metrics like:\n",
        "\n",
        "* **Accuracy, Precision, Recall, F1-score**\n",
        "* Use **cross-validation** or **OOB score** to validate performance.\n",
        "\n",
        "---\n",
        "\n",
        "### 8. **How does a Bagging Regressor work?**\n",
        "\n",
        "1. Trains multiple regressors on different bootstrap samples.\n",
        "2. Aggregates results using the **average** of all predictions.\n",
        "\n",
        "---\n",
        "\n",
        "### 9. **What is the main advantage of ensemble techniques?**\n",
        "\n",
        "They **reduce variance, bias, or both**, leading to improved performance and robustness compared to individual models.\n",
        "\n",
        "---\n",
        "\n",
        "### 10. **What is the main challenge of ensemble methods?**\n",
        "\n",
        "* **Complexity** (interpretability, training time)\n",
        "* **Overfitting** (in Boosting, if not regularized)\n",
        "* **Computational cost** (training multiple models)\n",
        "\n",
        "---\n",
        "\n",
        "### 11. **Explain the key idea behind ensemble techniques.**\n",
        "\n",
        "Combine **multiple weak learners** to form a **strong learner** by reducing errors from bias and variance through aggregation.\n",
        "\n",
        "---\n",
        "\n",
        "### 12. **What is a Random Forest Classifier?**\n",
        "\n",
        "An ensemble of decision trees where each tree is trained on a random subset of data and features. Final output is decided by **majority vote** (classification).\n",
        "\n",
        "---\n",
        "\n",
        "### 13. **What are the main types of ensemble techniques?**\n",
        "\n",
        "* **Bagging (Bootstrap Aggregating)**\n",
        "* **Boosting (e.g., AdaBoost, Gradient Boosting)**\n",
        "* **Stacking (model-of-models)**\n",
        "* **Voting (hard/soft)**\n",
        "\n",
        "---\n",
        "\n",
        "### 14. **What is ensemble learning in machine learning?**\n",
        "\n",
        "It is a technique where **multiple models** (weak learners) are combined to solve a problem and improve predictive performance.\n",
        "\n",
        "---\n",
        "\n",
        "### 15. **When should we avoid using ensemble methods?**\n",
        "\n",
        "* When interpretability is key\n",
        "* With **very small datasets**\n",
        "* When a **single simple model** performs sufficiently well\n",
        "\n",
        "---\n",
        "\n",
        "### 16. **How does Bagging help in reducing overfitting?**\n",
        "\n",
        "By training models on **different subsets** of data, Bagging reduces **variance** and helps prevent overfitting to the training data.\n",
        "\n",
        "---\n",
        "\n",
        "### 17. **Why is Random Forest better than a single Decision Tree?**\n",
        "\n",
        "Random Forest:\n",
        "\n",
        "* Reduces **overfitting**\n",
        "* Increases **accuracy**\n",
        "* Is more **robust** due to averaging predictions from many trees\n",
        "\n",
        "---\n",
        "\n",
        "### 18. **What is the role of bootstrap sampling in Bagging?**\n",
        "\n",
        "Bootstrap sampling creates **random subsets** with replacement from the training data, ensuring model diversity and lower variance.\n",
        "\n",
        "---\n",
        "\n",
        "### 19. **What are some real-world applications of ensemble techniques?**\n",
        "\n",
        "* **Fraud detection** (banking)\n",
        "* **Disease diagnosis** (healthcare)\n",
        "* **Spam detection** (email)\n",
        "* **Recommendation systems** (e-commerce)\n",
        "* **Stock market prediction**\n",
        "\n",
        "---\n",
        "\n",
        "### 20. **What is the difference between Bagging and Boosting?**\n",
        "\n",
        "| Feature     | Bagging           | Boosting                    |\n",
        "| ----------- | ----------------- | --------------------------- |\n",
        "| Model Type  | Parallel          | Sequential                  |\n",
        "| Goal        | Reduce variance   | Reduce bias                 |\n",
        "| Data Sample | Bootstrap samples | Focus on hard cases         |\n",
        "| Example     | Random Forest     | AdaBoost, Gradient Boosting |\n",
        "\n"
      ],
      "metadata": {
        "id": "LV9Cy72yP9ND"
      }
    },
    {
      "cell_type": "code",
      "execution_count": 58,
      "metadata": {
        "colab": {
          "base_uri": "https://localhost:8080/"
        },
        "id": "06p56tezP1Rh",
        "outputId": "5b79dd14-0652-4d83-f9ab-b164eefdeb69"
      },
      "outputs": [
        {
          "output_type": "stream",
          "name": "stdout",
          "text": [
            "Bagging Classifier (DecisionTree) Accuracy: 1.0000\n"
          ]
        }
      ],
      "source": [
        "# 21. Train a Bagging Classifier using Decision Trees on a sample dataset and print model accuracy\n",
        "\n",
        "from sklearn.ensemble import BaggingClassifier\n",
        "from sklearn.tree import DecisionTreeClassifier\n",
        "from sklearn.datasets import load_iris\n",
        "from sklearn.model_selection import train_test_split\n",
        "from sklearn.metrics import accuracy_score\n",
        "\n",
        "# Load the Iris dataset\n",
        "data = load_iris()\n",
        "X, y = data.data, data.target\n",
        "\n",
        "# Split the data into training and testing sets\n",
        "X_train, X_test, y_train, y_test = train_test_split(X, y, test_size=0.2, random_state=42)\n",
        "\n",
        "# Initialize the Bagging Classifier with DecisionTreeClassifier as base estimator\n",
        "bagging_clf = BaggingClassifier(\n",
        "    estimator=DecisionTreeClassifier(random_state=42),\n",
        "    n_estimators=10,\n",
        "    bootstrap=True,\n",
        "    random_state=42\n",
        ")\n",
        "\n",
        "# Train the model\n",
        "bagging_clf.fit(X_train, y_train)\n",
        "\n",
        "# Make predictions\n",
        "y_pred = bagging_clf.predict(X_test)\n",
        "\n",
        "# Calculate accuracy\n",
        "accuracy = accuracy_score(y_test, y_pred)\n",
        "\n",
        "# Print accuracy\n",
        "print(\"Bagging Classifier (DecisionTree) Accuracy: {:.4f}\".format(accuracy))\n"
      ]
    },
    {
      "cell_type": "code",
      "source": [
        "# 22. Train a Bagging Regressor using Decision Trees and evaluate using Mean Squared Error (MSE)\n",
        "\n",
        "from sklearn.ensemble import BaggingRegressor\n",
        "from sklearn.tree import DecisionTreeRegressor\n",
        "from sklearn.datasets import fetch_california_housing\n",
        "from sklearn.model_selection import train_test_split\n",
        "from sklearn.metrics import mean_squared_error\n",
        "\n",
        "# Load the California Housing dataset\n",
        "data = fetch_california_housing()\n",
        "X, y = data.data, data.target\n",
        "\n",
        "# Split the data into training and testing sets\n",
        "X_train, X_test, y_train, y_test = train_test_split(X, y, test_size=0.2, random_state=42)\n",
        "\n",
        "# Initialize the Bagging Regressor with DecisionTreeRegressor as base estimator\n",
        "bagging_reg = BaggingRegressor(\n",
        "    estimator=DecisionTreeRegressor(random_state=42),\n",
        "    n_estimators=10,\n",
        "    bootstrap=True,\n",
        "    random_state=42\n",
        ")\n",
        "\n",
        "# Train the model\n",
        "bagging_reg.fit(X_train, y_train)\n",
        "\n",
        "# Make predictions\n",
        "y_pred = bagging_reg.predict(X_test)\n",
        "\n",
        "# Calculate Mean Squared Error\n",
        "mse = mean_squared_error(y_test, y_pred)\n",
        "\n",
        "# Print MSE\n",
        "print(\"Bagging Regressor (DecisionTree) Mean Squared Error: {:.4f}\".format(mse))\n",
        "\n"
      ],
      "metadata": {
        "colab": {
          "base_uri": "https://localhost:8080/"
        },
        "id": "eZ0BODsUQNe_",
        "outputId": "4ba1cd10-9286-4d4a-cfba-5712dd2c840a"
      },
      "execution_count": 57,
      "outputs": [
        {
          "output_type": "stream",
          "name": "stdout",
          "text": [
            "Bagging Regressor (DecisionTree) Mean Squared Error: 0.2824\n"
          ]
        }
      ]
    },
    {
      "cell_type": "code",
      "source": [
        "#  23. Train a Random Forest Classifier on the Breast Cancer dataset and print feature importance scores\n",
        "\n",
        "from sklearn.ensemble import RandomForestClassifier\n",
        "from sklearn.datasets import load_breast_cancer\n",
        "\n",
        "data = load_breast_cancer()\n",
        "X, y = data.data, data.target\n",
        "feature_names = data.feature_names\n",
        "\n",
        "X_train, X_test, y_train, y_test = train_test_split(X, y, random_state=42)\n",
        "\n",
        "model = RandomForestClassifier(n_estimators=100, random_state=42)\n",
        "model.fit(X_train, y_train)\n",
        "\n",
        "importances = model.feature_importances_\n",
        "for name, score in sorted(zip(feature_names, importances), key=lambda x: x[1], reverse=True):\n",
        "    print(f\"{name}: {score:.4f}\")\n"
      ],
      "metadata": {
        "colab": {
          "base_uri": "https://localhost:8080/"
        },
        "id": "EBCXnc2MQSsM",
        "outputId": "57afadb8-664f-4d51-dbb0-c58049f4d10b"
      },
      "execution_count": 4,
      "outputs": [
        {
          "output_type": "stream",
          "name": "stdout",
          "text": [
            "worst concave points: 0.1723\n",
            "worst area: 0.1232\n",
            "mean concave points: 0.0903\n",
            "mean concavity: 0.0832\n",
            "worst radius: 0.0813\n",
            "worst perimeter: 0.0714\n",
            "mean perimeter: 0.0531\n",
            "area error: 0.0436\n",
            "mean area: 0.0428\n",
            "mean radius: 0.0397\n",
            "worst concavity: 0.0317\n",
            "radius error: 0.0195\n",
            "worst texture: 0.0165\n",
            "worst compactness: 0.0158\n",
            "mean texture: 0.0146\n",
            "worst symmetry: 0.0131\n",
            "mean compactness: 0.0114\n",
            "worst smoothness: 0.0103\n",
            "perimeter error: 0.0087\n",
            "mean smoothness: 0.0082\n",
            "concavity error: 0.0070\n",
            "fractal dimension error: 0.0066\n",
            "worst fractal dimension: 0.0052\n",
            "concave points error: 0.0050\n",
            "smoothness error: 0.0046\n",
            "texture error: 0.0046\n",
            "mean symmetry: 0.0044\n",
            "mean fractal dimension: 0.0044\n",
            "symmetry error: 0.0037\n",
            "compactness error: 0.0037\n"
          ]
        }
      ]
    },
    {
      "cell_type": "code",
      "source": [
        "# 24. Train a Random Forest Regressor and compare its performance with a single Decision Tree\n",
        "from sklearn.ensemble import RandomForestRegressor\n",
        "from sklearn.tree import DecisionTreeRegressor\n",
        "\n",
        "# Use same diabetes dataset\n",
        "X_train, X_test, y_train, y_test = train_test_split(X, y, test_size=0.3, random_state=42)\n",
        "\n",
        "# Random Forest\n",
        "rf_model = RandomForestRegressor(n_estimators=100, random_state=42)\n",
        "rf_model.fit(X_train, y_train)\n",
        "rf_pred = rf_model.predict(X_test)\n",
        "\n",
        "# Decision Tree\n",
        "dt_model = DecisionTreeRegressor(random_state=42)\n",
        "dt_model.fit(X_train, y_train)\n",
        "dt_pred = dt_model.predict(X_test)\n",
        "\n",
        "print(\"Random Forest MSE:\", mean_squared_error(y_test, rf_pred))\n",
        "print(\"Decision Tree MSE:\", mean_squared_error(y_test, dt_pred))\n",
        "\n"
      ],
      "metadata": {
        "colab": {
          "base_uri": "https://localhost:8080/"
        },
        "id": "1L6y2SlVQY58",
        "outputId": "cae5f9c9-1dcb-4b08-ef77-bb3e02f846da"
      },
      "execution_count": 5,
      "outputs": [
        {
          "output_type": "stream",
          "name": "stdout",
          "text": [
            "Random Forest MSE: 0.034179532163742685\n",
            "Decision Tree MSE: 0.05847953216374269\n"
          ]
        }
      ]
    },
    {
      "cell_type": "code",
      "source": [
        "#  25. Compute the Out-of-Bag (OOB) Score for a Random Forest Classifier\n",
        "\n",
        "rf_oob = RandomForestClassifier(n_estimators=100, oob_score=True, random_state=42)\n",
        "rf_oob.fit(X_train, y_train)\n",
        "print(\"OOB Score:\", rf_oob.oob_score_)\n"
      ],
      "metadata": {
        "colab": {
          "base_uri": "https://localhost:8080/"
        },
        "id": "hCApMB1uQhw0",
        "outputId": "a1c4a9d1-93d8-4166-f9d7-ab0263506b50"
      },
      "execution_count": 7,
      "outputs": [
        {
          "output_type": "stream",
          "name": "stdout",
          "text": [
            "OOB Score: 0.9547738693467337\n"
          ]
        }
      ]
    },
    {
      "cell_type": "code",
      "source": [
        "# 26. Train Bagging Classifier using SVM as base and print accuracy\n",
        "\n",
        "from sklearn.ensemble import BaggingClassifier\n",
        "from sklearn.svm import SVC\n",
        "from sklearn.datasets import load_iris\n",
        "from sklearn.model_selection import train_test_split\n",
        "from sklearn.metrics import accuracy_score\n",
        "from sklearn.preprocessing import StandardScaler\n",
        "\n",
        "# Load the Iris dataset\n",
        "data = load_iris()\n",
        "X, y = data.data, data.target\n",
        "\n",
        "# Split the data into training and testing sets\n",
        "X_train, X_test, y_train, y_test = train_test_split(X, y, test_size=0.2, random_state=42)\n",
        "\n",
        "# Scale the features (important for SVM)\n",
        "scaler = StandardScaler()\n",
        "X_train = scaler.fit_transform(X_train)\n",
        "X_test = scaler.transform(X_test)\n",
        "\n",
        "# Initialize the Bagging Classifier with SVM as base estimator\n",
        "bagging_clf = BaggingClassifier(\n",
        "    estimator=SVC(kernel='rbf', probability=True, random_state=42),\n",
        "    n_estimators=10,\n",
        "    bootstrap=True,\n",
        "    random_state=42\n",
        ")\n",
        "\n",
        "# Train the model\n",
        "bagging_clf.fit(X_train, y_train)\n",
        "\n",
        "# Make predictions\n",
        "y_pred = bagging_clf.predict(X_test)\n",
        "\n",
        "# Calculate accuracy\n",
        "accuracy = accuracy_score(y_test, y_pred)\n",
        "\n",
        "# Print accuracy\n",
        "print(\"Bagging Classifier (SVM) Accuracy: {:.4f}\".format(accuracy))\n"
      ],
      "metadata": {
        "colab": {
          "base_uri": "https://localhost:8080/"
        },
        "id": "gL5k4SZbQl8j",
        "outputId": "0a832a99-51bc-4c16-b6cc-71a2d9f5ffc4"
      },
      "execution_count": 56,
      "outputs": [
        {
          "output_type": "stream",
          "name": "stdout",
          "text": [
            "Bagging Classifier (SVM) Accuracy: 1.0000\n"
          ]
        }
      ]
    },
    {
      "cell_type": "code",
      "source": [
        "# 27. Train a Random Forest Classifier with different numbers of trees and compare accuracy\n",
        "\n",
        "for n in [10, 50, 100, 200]:\n",
        "    rf = RandomForestClassifier(n_estimators=n, random_state=42)\n",
        "    rf.fit(X_train, y_train)\n",
        "    acc = rf.score(X_test, y_test)\n",
        "    print(f\"{n} trees -> Accuracy: {acc:.4f}\")\n",
        "\n"
      ],
      "metadata": {
        "colab": {
          "base_uri": "https://localhost:8080/"
        },
        "id": "GkzKlytKQqKK",
        "outputId": "cc6281cd-e0a6-4565-abfd-6a000d4a57ec"
      },
      "execution_count": 12,
      "outputs": [
        {
          "output_type": "stream",
          "name": "stdout",
          "text": [
            "10 trees -> Accuracy: 0.9649\n",
            "50 trees -> Accuracy: 0.9708\n",
            "100 trees -> Accuracy: 0.9708\n",
            "200 trees -> Accuracy: 0.9708\n"
          ]
        }
      ]
    },
    {
      "cell_type": "code",
      "source": [
        "# 28. Train Bagging Classifier using Logistic Regression and print AUC score\n",
        "\n",
        "from sklearn.ensemble import BaggingClassifier\n",
        "from sklearn.linear_model import LogisticRegression\n",
        "from sklearn.datasets import load_breast_cancer\n",
        "from sklearn.model_selection import train_test_split\n",
        "from sklearn.metrics import roc_auc_score\n",
        "import warnings\n",
        "warnings.filterwarnings('ignore')  # Suppress convergence warnings for cleaner output\n",
        "\n",
        "# Load the breast cancer dataset (binary classification)\n",
        "data = load_breast_cancer()\n",
        "X, y = data.data, data.target\n",
        "\n",
        "# Split the data into training and testing sets\n",
        "X_train, X_test, y_train, y_test = train_test_split(X, y, test_size=0.2, random_state=42)\n",
        "\n",
        "# Initialize the Bagging Classifier with Logistic Regression as base estimator\n",
        "bagging_clf = BaggingClassifier(\n",
        "    estimator=LogisticRegression(max_iter=1000, random_state=42),\n",
        "    n_estimators=10,\n",
        "    bootstrap=True,\n",
        "    random_state=42\n",
        ")\n",
        "\n",
        "# Train the model\n",
        "bagging_clf.fit(X_train, y_train)\n",
        "\n",
        "# Predict probabilities for AUC calculation (probability for positive class)\n",
        "y_pred_proba = bagging_clf.predict_proba(X_test)[:, 1]\n",
        "\n",
        "# Calculate AUC score\n",
        "auc_score = roc_auc_score(y_test, y_pred_proba)\n",
        "\n",
        "# Print AUC score\n",
        "print(\"Bagging Classifier (Logistic Regression) AUC Score: {:.4f}\".format(auc_score))\n"
      ],
      "metadata": {
        "colab": {
          "base_uri": "https://localhost:8080/"
        },
        "id": "vIkO5paRQ04K",
        "outputId": "fd7bc3d6-b4b6-48e3-d232-257eba40531a"
      },
      "execution_count": 55,
      "outputs": [
        {
          "output_type": "stream",
          "name": "stdout",
          "text": [
            "Bagging Classifier (Logistic Regression) AUC Score: 0.9980\n"
          ]
        }
      ]
    },
    {
      "cell_type": "code",
      "source": [
        "# 29. Train a Random Forest Regressor and analyze feature importance scores\n",
        "\n",
        "rf_reg = RandomForestRegressor(n_estimators=100, random_state=42)\n",
        "rf_reg.fit(X_train, y_train)\n",
        "importances = rf_reg.feature_importances_\n",
        "\n",
        "for name, score in sorted(zip(feature_names, importances), key=lambda x: x[1], reverse=True):\n",
        "    print(f\"{name}: {score:.4f}\")\n",
        "\n"
      ],
      "metadata": {
        "colab": {
          "base_uri": "https://localhost:8080/"
        },
        "id": "Sq3fMyhjQ78D",
        "outputId": "87c93329-4b51-49be-8fbb-19eef39bd628"
      },
      "execution_count": 16,
      "outputs": [
        {
          "output_type": "stream",
          "name": "stdout",
          "text": [
            "mean concave points: 0.3876\n",
            "worst concave points: 0.2291\n",
            "worst perimeter: 0.1214\n",
            "worst area: 0.0586\n",
            "worst radius: 0.0419\n",
            "worst texture: 0.0297\n",
            "worst concavity: 0.0216\n",
            "mean texture: 0.0181\n",
            "area error: 0.0155\n",
            "radius error: 0.0094\n",
            "worst smoothness: 0.0088\n",
            "fractal dimension error: 0.0056\n",
            "worst symmetry: 0.0049\n",
            "mean area: 0.0046\n",
            "concavity error: 0.0041\n",
            "mean perimeter: 0.0040\n",
            "smoothness error: 0.0040\n",
            "worst fractal dimension: 0.0037\n",
            "symmetry error: 0.0035\n",
            "mean fractal dimension: 0.0034\n",
            "mean smoothness: 0.0029\n",
            "mean concavity: 0.0029\n",
            "texture error: 0.0025\n",
            "mean symmetry: 0.0020\n",
            "concave points error: 0.0020\n",
            "perimeter error: 0.0020\n",
            "worst compactness: 0.0019\n",
            "mean radius: 0.0016\n",
            "mean compactness: 0.0014\n",
            "compactness error: 0.0011\n"
          ]
        }
      ]
    },
    {
      "cell_type": "code",
      "source": [
        "# 30. Train an ensemble model using both Bagging and Random Forest and compare accuracy\n",
        "\n",
        "from sklearn.ensemble import BaggingClassifier, RandomForestClassifier\n",
        "from sklearn.tree import DecisionTreeClassifier\n",
        "from sklearn.datasets import load_iris\n",
        "from sklearn.model_selection import train_test_split\n",
        "from sklearn.metrics import accuracy_score\n",
        "\n",
        "# Load the Iris dataset\n",
        "data = load_iris()\n",
        "X, y = data.data, data.target\n",
        "\n",
        "# Split the data into training and testing sets\n",
        "X_train, X_test, y_train, y_test = train_test_split(X, y, test_size=0.2, random_state=42)\n",
        "\n",
        "# Initialize Bagging Classifier with DecisionTreeClassifier as base estimator\n",
        "bagging_clf = BaggingClassifier(\n",
        "    estimator=DecisionTreeClassifier(random_state=42),\n",
        "    n_estimators=100,\n",
        "    bootstrap=True,\n",
        "    random_state=42\n",
        ")\n",
        "\n",
        "# Initialize Random Forest Classifier\n",
        "rf_clf = RandomForestClassifier(\n",
        "    n_estimators=100,\n",
        "    bootstrap=True,\n",
        "    random_state=42\n",
        ")\n",
        "\n",
        "# Train and evaluate Bagging Classifier\n",
        "bagging_clf.fit(X_train, y_train)\n",
        "bagging_pred = bagging_clf.predict(X_test)\n",
        "bagging_accuracy = accuracy_score(y_test, bagging_pred)\n",
        "\n",
        "# Train and evaluate Random Forest Classifier\n",
        "rf_clf.fit(X_train, y_train)\n",
        "rf_pred = rf_clf.predict(X_test)\n",
        "rf_accuracy = accuracy_score(y_test, rf_pred)\n",
        "\n",
        "# Print accuracy results\n",
        "print(\"Bagging Classifier Accuracy: {:.4f}\".format(bagging_accuracy))\n",
        "print(\"Random Forest Classifier Accuracy: {:.4f}\".format(rf_accuracy))"
      ],
      "metadata": {
        "colab": {
          "base_uri": "https://localhost:8080/"
        },
        "id": "7At_AULJRBi1",
        "outputId": "6a6b1206-27ad-466f-82da-9dd5551bc350"
      },
      "execution_count": 54,
      "outputs": [
        {
          "output_type": "stream",
          "name": "stdout",
          "text": [
            "Bagging Classifier Accuracy: 1.0000\n",
            "Random Forest Classifier Accuracy: 1.0000\n"
          ]
        }
      ]
    },
    {
      "cell_type": "code",
      "source": [
        "# 31. Train a Random Forest Classifier and tune hyperparameters using GridSearchCV\n",
        "\n",
        "from sklearn.model_selection import GridSearchCV\n",
        "\n",
        "param_grid = {\n",
        "    'n_estimators': [50, 100],\n",
        "    'max_depth': [None, 5, 10],\n",
        "    'min_samples_split': [2, 5]\n",
        "}\n",
        "\n",
        "grid = GridSearchCV(RandomForestClassifier(random_state=42), param_grid, cv=5)\n",
        "grid.fit(X_train, y_train)\n",
        "print(\"Best Parameters:\", grid.best_params_)\n",
        "print(\"Best Accuracy:\", grid.best_score_)\n",
        "\n"
      ],
      "metadata": {
        "colab": {
          "base_uri": "https://localhost:8080/"
        },
        "id": "0vaYY4XeRHD7",
        "outputId": "f6be2a98-70ff-4d2a-ab54-389bcd64e644"
      },
      "execution_count": 20,
      "outputs": [
        {
          "output_type": "stream",
          "name": "stdout",
          "text": [
            "Best Parameters: {'max_depth': None, 'min_samples_split': 5, 'n_estimators': 100}\n",
            "Best Accuracy: 0.9497151898734177\n"
          ]
        }
      ]
    },
    {
      "cell_type": "code",
      "source": [
        "# 32. Train Bagging Regressor with different numbers of base estimators and compare performance\n",
        "\n",
        "for n in [10, 50, 100]:\n",
        "    bag_reg = BaggingRegressor(n_estimators=n, random_state=42)\n",
        "    bag_reg.fit(X_train, y_train)\n",
        "    pred = bag_reg.predict(X_test)\n",
        "    mse = mean_squared_error(y_test, pred)\n",
        "    print(f\"{n} estimators -> MSE: {mse:.2f}\")\n",
        "\n"
      ],
      "metadata": {
        "colab": {
          "base_uri": "https://localhost:8080/"
        },
        "id": "Q1x2m3wHRPob",
        "outputId": "39a193ca-c998-4e4d-d82a-eae735f6449c"
      },
      "execution_count": 21,
      "outputs": [
        {
          "output_type": "stream",
          "name": "stdout",
          "text": [
            "10 estimators -> MSE: 0.04\n",
            "50 estimators -> MSE: 0.03\n",
            "100 estimators -> MSE: 0.03\n"
          ]
        }
      ]
    },
    {
      "cell_type": "code",
      "source": [
        "# 33. Train a Random Forest Classifier and analyze misclassified samples\n",
        "\n",
        "y_pred = rf_model.predict(X_test)\n",
        "misclassified = X_test[y_pred != y_test]\n",
        "print(f\"Number of misclassified samples: {len(misclassified)}\")\n"
      ],
      "metadata": {
        "colab": {
          "base_uri": "https://localhost:8080/"
        },
        "id": "f_IJqWZNRT7N",
        "outputId": "6061ef04-7e31-4e61-a935-b75dbbb0dbe1"
      },
      "execution_count": 23,
      "outputs": [
        {
          "output_type": "stream",
          "name": "stdout",
          "text": [
            "Number of misclassified samples: 75\n"
          ]
        }
      ]
    },
    {
      "cell_type": "code",
      "source": [
        "# 34. Train a Bagging Classifier and compare its performance with a single Decision Tree Classifier\n",
        "\n",
        "from sklearn.ensemble import BaggingClassifier\n",
        "from sklearn.tree import DecisionTreeClassifier\n",
        "from sklearn.datasets import load_iris\n",
        "from sklearn.model_selection import train_test_split\n",
        "from sklearn.metrics import accuracy_score, precision_score, recall_score, f1_score\n",
        "\n",
        "# Load the Iris dataset\n",
        "data = load_iris()\n",
        "X, y = data.data, data.target\n",
        "\n",
        "# Split the data into training and testing sets\n",
        "X_train, X_test, y_train, y_test = train_test_split(X, y, test_size=0.2, random_state=42)\n",
        "\n",
        "# Initialize a single Decision Tree Classifier\n",
        "dt_clf = DecisionTreeClassifier(random_state=42)\n",
        "\n",
        "# Initialize the Bagging Classifier with DecisionTreeClassifier as base estimator\n",
        "bagging_clf = BaggingClassifier(\n",
        "    estimator=DecisionTreeClassifier(random_state=42),\n",
        "    n_estimators=10,\n",
        "    bootstrap=True,\n",
        "    random_state=42\n",
        ")\n",
        "\n",
        "# Train and evaluate the Decision Tree Classifier\n",
        "dt_clf.fit(X_train, y_train)\n",
        "dt_pred = dt_clf.predict(X_test)\n",
        "dt_accuracy = accuracy_score(y_test, dt_pred)\n",
        "dt_precision = precision_score(y_test, dt_pred, average='macro')\n",
        "dt_recall = recall_score(y_test, dt_pred, average='macro')\n",
        "dt_f1 = f1_score(y_test, dt_pred, average='macro')\n",
        "\n",
        "# Train and evaluate the Bagging Classifier\n",
        "bagging_clf.fit(X_train, y_train)\n",
        "bagging_pred = bagging_clf.predict(X_test)\n",
        "bagging_accuracy = accuracy_score(y_test, bagging_pred)\n",
        "bagging_precision = precision_score(y_test, bagging_pred, average='macro')\n",
        "bagging_recall = recall_score(y_test, bagging_pred, average='macro')\n",
        "bagging_f1 = f1_score(y_test, bagging_pred, average='macro')\n",
        "\n",
        "# Print performance results\n",
        "print(\"Decision Tree Classifier Performance:\")\n",
        "print(f\"Accuracy: {dt_accuracy:.4f}\")\n",
        "print(f\"Precision (macro): {dt_precision:.4f}\")\n",
        "print(f\"Recall (macro): {dt_recall:.4f}\")\n",
        "print(f\"F1-Score (macro): {dt_f1:.4f}\\n\")\n",
        "\n",
        "print(\"Bagging Classifier Performance:\")\n",
        "print(f\"Accuracy: {bagging_accuracy:.4f}\")\n",
        "print(f\"Precision (macro): {bagging_precision:.4f}\")\n",
        "print(f\"Recall (macro): {bagging_recall:.4f}\")\n",
        "print(f\"F1-Score (macro): {bagging_f1:.4f}\")\n"
      ],
      "metadata": {
        "colab": {
          "base_uri": "https://localhost:8080/"
        },
        "id": "QbEyMrYkRglD",
        "outputId": "0c67ad36-e205-490f-c5eb-886b79c0956a"
      },
      "execution_count": 53,
      "outputs": [
        {
          "output_type": "stream",
          "name": "stdout",
          "text": [
            "Decision Tree Classifier Performance:\n",
            "Accuracy: 1.0000\n",
            "Precision (macro): 1.0000\n",
            "Recall (macro): 1.0000\n",
            "F1-Score (macro): 1.0000\n",
            "\n",
            "Bagging Classifier Performance:\n",
            "Accuracy: 1.0000\n",
            "Precision (macro): 1.0000\n",
            "Recall (macro): 1.0000\n",
            "F1-Score (macro): 1.0000\n"
          ]
        }
      ]
    },
    {
      "cell_type": "code",
      "source": [
        "# 35. Train a Random Forest Classifier and visualize the confusion matrix\n",
        "\n",
        "from sklearn.metrics import confusion_matrix, ConfusionMatrixDisplay\n",
        "import matplotlib.pyplot as plt\n",
        "\n",
        "rf = RandomForestClassifier(n_estimators=100, random_state=42)\n",
        "rf.fit(X_train, y_train)\n",
        "y_pred = rf.predict(X_test)\n",
        "\n",
        "cm = confusion_matrix(y_test, y_pred)\n",
        "disp = ConfusionMatrixDisplay(confusion_matrix=cm)\n",
        "disp.plot()\n",
        "plt.title(\"Random Forest Confusion Matrix\")\n",
        "plt.show()\n"
      ],
      "metadata": {
        "colab": {
          "base_uri": "https://localhost:8080/",
          "height": 472
        },
        "id": "XrPOtQypRp7D",
        "outputId": "8799e249-52a0-4856-cb27-af0647a34dcf"
      },
      "execution_count": 28,
      "outputs": [
        {
          "output_type": "display_data",
          "data": {
            "text/plain": [
              "<Figure size 640x480 with 2 Axes>"
            ],
            "image/png": "[encoded data removed]"
          },
          "metadata": {}
        }
      ]
    },
    {
      "cell_type": "code",
      "source": [
        "# 36. Train a Stacking Classifier using Decision Trees, SVM, and Logistic Regression, and compare accuracy\n",
        "\n",
        "from sklearn.ensemble import StackingClassifier\n",
        "\n",
        "estimators = [\n",
        "    ('dt', DecisionTreeClassifier()),\n",
        "    ('svm', SVC(probability=True)),\n",
        "    ('lr', LogisticRegression(max_iter=1000))\n",
        "]\n",
        "\n",
        "stack = StackingClassifier(estimators=estimators, final_estimator=LogisticRegression())\n",
        "stack.fit(X_train, y_train)\n",
        "\n",
        "print(\"Stacking Classifier Accuracy:\", stack.score(X_test, y_test))\n"
      ],
      "metadata": {
        "colab": {
          "base_uri": "https://localhost:8080/"
        },
        "id": "5VX4zU5oRsyc",
        "outputId": "b7682bde-569f-4b9f-b8eb-4738d571b95e"
      },
      "execution_count": 31,
      "outputs": [
        {
          "output_type": "stream",
          "name": "stderr",
          "text": [
            "/usr/local/lib/python3.11/dist-packages/sklearn/linear_model/_logistic.py:465: ConvergenceWarning: lbfgs failed to converge (status=1):\n",
            "STOP: TOTAL NO. OF ITERATIONS REACHED LIMIT.\n",
            "\n",
            "Increase the number of iterations (max_iter) or scale the data as shown in:\n",
            "    https://scikit-learn.org/stable/modules/preprocessing.html\n",
            "Please also refer to the documentation for alternative solver options:\n",
            "    https://scikit-learn.org/stable/modules/linear_model.html#logistic-regression\n",
            "  n_iter_i = _check_optimize_result(\n",
            "/usr/local/lib/python3.11/dist-packages/sklearn/linear_model/_logistic.py:465: ConvergenceWarning: lbfgs failed to converge (status=1):\n",
            "STOP: TOTAL NO. OF ITERATIONS REACHED LIMIT.\n",
            "\n",
            "Increase the number of iterations (max_iter) or scale the data as shown in:\n",
            "    https://scikit-learn.org/stable/modules/preprocessing.html\n",
            "Please also refer to the documentation for alternative solver options:\n",
            "    https://scikit-learn.org/stable/modules/linear_model.html#logistic-regression\n",
            "  n_iter_i = _check_optimize_result(\n",
            "/usr/local/lib/python3.11/dist-packages/sklearn/linear_model/_logistic.py:465: ConvergenceWarning: lbfgs failed to converge (status=1):\n",
            "STOP: TOTAL NO. OF ITERATIONS REACHED LIMIT.\n",
            "\n",
            "Increase the number of iterations (max_iter) or scale the data as shown in:\n",
            "    https://scikit-learn.org/stable/modules/preprocessing.html\n",
            "Please also refer to the documentation for alternative solver options:\n",
            "    https://scikit-learn.org/stable/modules/linear_model.html#logistic-regression\n",
            "  n_iter_i = _check_optimize_result(\n",
            "/usr/local/lib/python3.11/dist-packages/sklearn/linear_model/_logistic.py:465: ConvergenceWarning: lbfgs failed to converge (status=1):\n",
            "STOP: TOTAL NO. OF ITERATIONS REACHED LIMIT.\n",
            "\n",
            "Increase the number of iterations (max_iter) or scale the data as shown in:\n",
            "    https://scikit-learn.org/stable/modules/preprocessing.html\n",
            "Please also refer to the documentation for alternative solver options:\n",
            "    https://scikit-learn.org/stable/modules/linear_model.html#logistic-regression\n",
            "  n_iter_i = _check_optimize_result(\n",
            "/usr/local/lib/python3.11/dist-packages/sklearn/linear_model/_logistic.py:465: ConvergenceWarning: lbfgs failed to converge (status=1):\n",
            "STOP: TOTAL NO. OF ITERATIONS REACHED LIMIT.\n",
            "\n",
            "Increase the number of iterations (max_iter) or scale the data as shown in:\n",
            "    https://scikit-learn.org/stable/modules/preprocessing.html\n",
            "Please also refer to the documentation for alternative solver options:\n",
            "    https://scikit-learn.org/stable/modules/linear_model.html#logistic-regression\n",
            "  n_iter_i = _check_optimize_result(\n"
          ]
        },
        {
          "output_type": "stream",
          "name": "stdout",
          "text": [
            "Stacking Classifier Accuracy: 0.9707602339181286\n"
          ]
        },
        {
          "output_type": "stream",
          "name": "stderr",
          "text": [
            "/usr/local/lib/python3.11/dist-packages/sklearn/linear_model/_logistic.py:465: ConvergenceWarning: lbfgs failed to converge (status=1):\n",
            "STOP: TOTAL NO. OF ITERATIONS REACHED LIMIT.\n",
            "\n",
            "Increase the number of iterations (max_iter) or scale the data as shown in:\n",
            "    https://scikit-learn.org/stable/modules/preprocessing.html\n",
            "Please also refer to the documentation for alternative solver options:\n",
            "    https://scikit-learn.org/stable/modules/linear_model.html#logistic-regression\n",
            "  n_iter_i = _check_optimize_result(\n"
          ]
        }
      ]
    },
    {
      "cell_type": "code",
      "source": [
        "# 37. Train a Random Forest Classifier and print the top 5 most important features\n",
        "import numpy as np\n",
        "\n",
        "rf = RandomForestClassifier(n_estimators=100, random_state=42)\n",
        "rf.fit(X_train, y_train)\n",
        "\n",
        "importances = rf.feature_importances_\n",
        "indices = np.argsort(importances)[-5:][::-1]  # Top 5\n",
        "\n",
        "print(\"Top 5 important features:\")\n",
        "for i in indices:\n",
        "    print(f\"{feature_names[i]}: {importances[i]:.4f}\")\n"
      ],
      "metadata": {
        "colab": {
          "base_uri": "https://localhost:8080/"
        },
        "id": "9DaSmTQWRzYE",
        "outputId": "e251a082-dff7-4e84-a9de-fda2e02d3724"
      },
      "execution_count": 33,
      "outputs": [
        {
          "output_type": "stream",
          "name": "stdout",
          "text": [
            "Top 5 important features:\n",
            "mean concave points: 0.1419\n",
            "worst concave points: 0.1271\n",
            "worst area: 0.1182\n",
            "mean concavity: 0.0806\n",
            "worst radius: 0.0780\n"
          ]
        }
      ]
    },
    {
      "cell_type": "code",
      "source": [
        "# 38. Train a Bagging Classifier and evaluate performance using Precision, Recall, and F1-score\n",
        "\n",
        "from sklearn.ensemble import BaggingClassifier\n",
        "from sklearn.tree import DecisionTreeClassifier\n",
        "from sklearn.datasets import load_iris\n",
        "from sklearn.model_selection import train_test_split\n",
        "from sklearn.metrics import precision_score, recall_score, f1_score\n",
        "\n",
        "# Load the Iris dataset\n",
        "data = load_iris()\n",
        "X, y = data.data, data.target\n",
        "\n",
        "# Split the data into training and testing sets\n",
        "X_train, X_test, y_train, y_test = train_test_split(X, y, test_size=0.2, random_state=42)\n",
        "\n",
        "# Initialize the Bagging Classifier with DecisionTreeClassifier as base estimator\n",
        "bagging_clf = BaggingClassifier(\n",
        "    estimator=DecisionTreeClassifier(),\n",
        "    n_estimators=10,\n",
        "    bootstrap=True,\n",
        "    random_state=42\n",
        ")\n",
        "\n",
        "# Train the model\n",
        "bagging_clf.fit(X_train, y_train)\n",
        "\n",
        "# Make predictions\n",
        "y_pred = bagging_clf.predict(X_test)\n",
        "\n",
        "# Calculate performance metrics (macro-averaged for multi-class)\n",
        "precision = precision_score(y_test, y_pred, average='macro')\n",
        "recall = recall_score(y_test, y_pred, average='macro')\n",
        "f1 = f1_score(y_test, y_pred, average='macro')\n",
        "\n",
        "# Print performance results\n",
        "print(\"Bagging Classifier Performance:\")\n",
        "print(f\"Precision (macro): {precision:.4f}\")\n",
        "print(f\"Recall (macro): {recall:.4f}\")\n",
        "print(f\"F1-Score (macro): {f1:.4f}\")\n"
      ],
      "metadata": {
        "colab": {
          "base_uri": "https://localhost:8080/"
        },
        "id": "W8X1jf9mR4wL",
        "outputId": "2c615925-76af-4190-a917-cec36ad2b0ab"
      },
      "execution_count": 52,
      "outputs": [
        {
          "output_type": "stream",
          "name": "stdout",
          "text": [
            "Bagging Classifier Performance:\n",
            "Precision (macro): 1.0000\n",
            "Recall (macro): 1.0000\n",
            "F1-Score (macro): 1.0000\n"
          ]
        }
      ]
    },
    {
      "cell_type": "code",
      "source": [
        "# 39. Train a Random Forest Classifier and analyze the effect of max_depth on accuracy\n",
        "\n",
        "for depth in [None, 5, 10, 20]:\n",
        "    rf = RandomForestClassifier(n_estimators=100, max_depth=depth, random_state=42)\n",
        "    rf.fit(X_train, y_train)\n",
        "    acc = rf.score(X_test, y_test)\n",
        "    print(f\"max_depth={depth} -> Accuracy: {acc:.4f}\")\n"
      ],
      "metadata": {
        "colab": {
          "base_uri": "https://localhost:8080/"
        },
        "id": "61vdnF21R_yb",
        "outputId": "ec23bc54-b343-4bf7-f155-a75ae26a63a6"
      },
      "execution_count": 37,
      "outputs": [
        {
          "output_type": "stream",
          "name": "stdout",
          "text": [
            "max_depth=None -> Accuracy: 0.9708\n",
            "max_depth=5 -> Accuracy: 0.9649\n",
            "max_depth=10 -> Accuracy: 0.9708\n",
            "max_depth=20 -> Accuracy: 0.9708\n"
          ]
        }
      ]
    },
    {
      "cell_type": "code",
      "source": [
        "#  40. Train a Bagging Regressor using different base estimators (DecisionTree and KNeighbors) and compare performance\n",
        "\n",
        "from sklearn.ensemble import BaggingRegressor\n",
        "from sklearn.tree import DecisionTreeRegressor\n",
        "from sklearn.neighbors import KNeighborsRegressor\n",
        "from sklearn.datasets import fetch_california_housing\n",
        "from sklearn.model_selection import train_test_split\n",
        "from sklearn.metrics import mean_squared_error, r2_score\n",
        "\n",
        "# Load the California Housing dataset\n",
        "data = fetch_california_housing()\n",
        "X, y = data.data, data.target\n",
        "\n",
        "# Split the data into training and testing sets\n",
        "X_train, X_test, y_train, y_test = train_test_split(X, y, test_size=0.2, random_state=42)\n",
        "\n",
        "# Define base estimators\n",
        "dt = DecisionTreeRegressor(random_state=42)\n",
        "knn = KNeighborsRegressor(n_neighbors=5)\n",
        "\n",
        "# Initialize Bagging Regressors with different base estimators\n",
        "bagging_dt = BaggingRegressor(\n",
        "    estimator=dt,\n",
        "    n_estimators=10,\n",
        "    bootstrap=True,\n",
        "    random_state=42\n",
        ")\n",
        "\n",
        "bagging_knn = BaggingRegressor(\n",
        "    estimator=knn,\n",
        "    n_estimators=10,\n",
        "    bootstrap=True,\n",
        "    random_state=42\n",
        ")\n",
        "\n",
        "# Train and evaluate Bagging Regressor with DecisionTree\n",
        "bagging_dt.fit(X_train, y_train)\n",
        "y_pred_dt = bagging_dt.predict(X_test)\n",
        "mse_dt = mean_squared_error(y_test, y_pred_dt)\n",
        "r2_dt = r2_score(y_test, y_pred_dt)\n",
        "\n",
        "# Train and evaluate Bagging Regressor with KNeighbors\n",
        "bagging_knn.fit(X_train, y_train)\n",
        "y_pred_knn = bagging_knn.predict(X_test)\n",
        "mse_knn = mean_squared_error(y_test, y_pred_knn)\n",
        "r2_knn = r2_score(y_test, y_pred_knn)\n",
        "\n",
        "# Print performance results\n",
        "print(\"Bagging Regressor with DecisionTree:\")\n",
        "print(f\"Mean Squared Error: {mse_dt:.4f}\")\n",
        "print(f\"R² Score: {r2_dt:.4f}\\n\")\n",
        "\n",
        "print(\"Bagging Regressor with KNeighbors:\")\n",
        "print(f\"Mean Squared Error: {mse_knn:.4f}\")\n",
        "print(f\"R² Score: {r2_knn:.4f}\")\n",
        "\n"
      ],
      "metadata": {
        "colab": {
          "base_uri": "https://localhost:8080/"
        },
        "id": "WSr3C7-kSD7V",
        "outputId": "153b0da8-0e04-4f36-a59d-6b9cbd4a6908"
      },
      "execution_count": 51,
      "outputs": [
        {
          "output_type": "stream",
          "name": "stdout",
          "text": [
            "Bagging Regressor with DecisionTree:\n",
            "Mean Squared Error: 0.2824\n",
            "R² Score: 0.7845\n",
            "\n",
            "Bagging Regressor with KNeighbors:\n",
            "Mean Squared Error: 1.0975\n",
            "R² Score: 0.1625\n"
          ]
        }
      ]
    },
    {
      "cell_type": "code",
      "source": [
        "# 41. Train a Random Forest Classifier and evaluate its performance using ROC-AUC Score\n",
        "\n",
        "from sklearn.metrics import roc_auc_score\n",
        "\n",
        "rf = RandomForestClassifier(n_estimators=100, random_state=42)\n",
        "rf.fit(X_train, y_train)\n",
        "y_proba = rf.predict_proba(X_test)[:, 1]\n",
        "\n",
        "auc = roc_auc_score(y_test, y_proba)\n",
        "print(\"ROC-AUC Score:\", auc)\n",
        "\n"
      ],
      "metadata": {
        "colab": {
          "base_uri": "https://localhost:8080/"
        },
        "id": "kGJ4HkfYSF-v",
        "outputId": "6b4b31ae-7c74-49f0-eff3-57577437528c"
      },
      "execution_count": 41,
      "outputs": [
        {
          "output_type": "stream",
          "name": "stdout",
          "text": [
            "ROC-AUC Score: 0.9968400940623163\n"
          ]
        }
      ]
    },
    {
      "cell_type": "code",
      "source": [
        "# 42. Train a Bagging Classifier and evaluate its performance using cross-validation\n",
        "\n",
        "from sklearn.ensemble import BaggingClassifier\n",
        "from sklearn.tree import DecisionTreeClassifier\n",
        "from sklearn.datasets import load_iris\n",
        "from sklearn.model_selection import cross_val_score\n",
        "import numpy as np\n",
        "\n",
        "# Load the Iris dataset\n",
        "data = load_iris()\n",
        "X, y = data.data, data.target\n",
        "\n",
        "# Initialize the Bagging Classifier with DecisionTreeClassifier as base estimator\n",
        "bagging_clf = BaggingClassifier(\n",
        "    estimator=DecisionTreeClassifier(),\n",
        "    n_estimators=10,\n",
        "    bootstrap=True,\n",
        "    random_state=42\n",
        ")\n",
        "\n",
        "# Perform 5-fold cross-validation\n",
        "cv_scores = cross_val_score(bagging_clf, X, y, cv=5, scoring='accuracy')\n",
        "\n",
        "# Print cross-validation results\n",
        "print(\"Cross-Validation Accuracy Scores:\", cv_scores)\n",
        "print(\"Mean Accuracy: {:.4f}\".format(np.mean(cv_scores)))\n",
        "print(\"Standard Deviation: {:.4f}\".format(np.std(cv_scores)))"
      ],
      "metadata": {
        "colab": {
          "base_uri": "https://localhost:8080/"
        },
        "id": "68TiOJ3vSPkC",
        "outputId": "445bb1a4-c51d-4e0c-fb44-7d734160a2fb"
      },
      "execution_count": 50,
      "outputs": [
        {
          "output_type": "stream",
          "name": "stdout",
          "text": [
            "Cross-Validation Accuracy Scores: [0.96666667 0.96666667 0.9        0.93333333 1.        ]\n",
            "Mean Accuracy: 0.9533\n",
            "Standard Deviation: 0.0340\n"
          ]
        }
      ]
    },
    {
      "cell_type": "code",
      "source": [
        "#  43. Train a Random Forest Classifier and plot the Precision-Recall curve\n",
        "\n",
        "from sklearn.metrics import precision_recall_curve, PrecisionRecallDisplay\n",
        "\n",
        "rf = RandomForestClassifier(n_estimators=100, random_state=42)\n",
        "rf.fit(X_train, y_train)\n",
        "y_score = rf.predict_proba(X_test)[:, 1]\n",
        "\n",
        "precision, recall, _ = precision_recall_curve(y_test, y_score)\n",
        "disp = PrecisionRecallDisplay(precision=precision, recall=recall)\n",
        "disp.plot()\n",
        "plt.title(\"Precision-Recall Curve\")\n",
        "plt.show()\n"
      ],
      "metadata": {
        "colab": {
          "base_uri": "https://localhost:8080/",
          "height": 472
        },
        "id": "y4Sf6zfqSRkD",
        "outputId": "ea9f162a-2a8a-48aa-93a6-e2f7e023110f"
      },
      "execution_count": 44,
      "outputs": [
        {
          "output_type": "display_data",
          "data": {
            "text/plain": [
              "<Figure size 640x480 with 1 Axes>"
            ],
            "image/png": "[encoded data removed]"
          },
          "metadata": {}
        }
      ]
    },
    {
      "cell_type": "code",
      "source": [
        "# 44. Train a Stacking Classifier with Random Forest and Logistic Regression and compare accuracy\n",
        "\n",
        "from sklearn.ensemble import StackingClassifier, RandomForestClassifier\n",
        "from sklearn.linear_model import LogisticRegression\n",
        "from sklearn.datasets import load_iris\n",
        "from sklearn.model_selection import train_test_split\n",
        "from sklearn.metrics import accuracy_score\n",
        "import warnings\n",
        "warnings.filterwarnings('ignore')  # Suppress warnings for cleaner output\n",
        "\n",
        "# Load the Iris dataset\n",
        "data = load_iris()\n",
        "X, y = data.data, data.target\n",
        "\n",
        "# Split the data into training and testing sets\n",
        "X_train, X_test, y_train, y_test = train_test_split(X, y, test_size=0.2, random_state=42)\n",
        "\n",
        "# Define base learners\n",
        "rf = RandomForestClassifier(n_estimators=100, random_state=42)\n",
        "lr = LogisticRegression(max_iter=1000, random_state=42)\n",
        "\n",
        "# Define the stacking classifier\n",
        "estimators = [\n",
        "    ('rf', rf),\n",
        "    ('lr', lr)\n",
        "]\n",
        "stacking_clf = StackingClassifier(\n",
        "    estimators=estimators,\n",
        "    final_estimator=LogisticRegression(max_iter=1000),\n",
        "    cv=5\n",
        ")\n",
        "\n",
        "# Train and evaluate individual Random Forest\n",
        "rf.fit(X_train, y_train)\n",
        "rf_pred = rf.predict(X_test)\n",
        "rf_accuracy = accuracy_score(y_test, rf_pred)\n",
        "\n",
        "# Train and evaluate individual Logistic Regression\n",
        "lr.fit(X_train, y_train)\n",
        "lr_pred = lr.predict(X_test)\n",
        "lr_accuracy = accuracy_score(y_test, lr_pred)\n",
        "\n",
        "# Train and evaluate Stacking Classifier\n",
        "stacking_clf.fit(X_train, y_train)\n",
        "stacking_pred = stacking_clf.predict(X_test)\n",
        "stacking_accuracy = accuracy_score(y_test, stacking_pred)\n",
        "\n",
        "# Print accuracy results\n",
        "print(\"Random Forest Accuracy: {:.4f}\".format(rf_accuracy))\n",
        "print(\"Logistic Regression Accuracy: {:.4f}\".format(lr_accuracy))\n",
        "print(\"Stacking Classifier Accuracy: {:.4f}\".format(stacking_accuracy))\n"
      ],
      "metadata": {
        "colab": {
          "base_uri": "https://localhost:8080/"
        },
        "id": "LQN3SwQNSbJl",
        "outputId": "0a58b150-54e6-4c4d-c517-9ee3391ddb38"
      },
      "execution_count": 49,
      "outputs": [
        {
          "output_type": "stream",
          "name": "stdout",
          "text": [
            "Random Forest Accuracy: 1.0000\n",
            "Logistic Regression Accuracy: 1.0000\n",
            "Stacking Classifier Accuracy: 1.0000\n"
          ]
        }
      ]
    },
    {
      "cell_type": "code",
      "source": [
        "# 45. Train a Bagging Regressor with different levels of bootstrap samples and compare performance\n",
        "\n",
        "# Import necessary libraries\n",
        "from sklearn.ensemble import BaggingRegressor\n",
        "from sklearn.tree import DecisionTreeRegressor\n",
        "from sklearn.datasets import fetch_california_housing\n",
        "from sklearn.model_selection import train_test_split\n",
        "from sklearn.metrics import mean_squared_error, r2_score\n",
        "import numpy as np\n",
        "import matplotlib.pyplot as plt\n",
        "\n",
        "# Load the California Housing dataset\n",
        "data = fetch_california_housing()\n",
        "X, y = data.data, data.target\n",
        "\n",
        "# Split the data into training and testing sets\n",
        "X_train, X_test, y_train, y_test = train_test_split(X, y, test_size=0.2, random_state=42)\n",
        "\n",
        "# Define different numbers of bootstrap samples (n_estimators)\n",
        "n_estimators_list = [5, 10, 20, 50, 100]\n",
        "\n",
        "# Lists to store performance metrics\n",
        "mse_scores = []\n",
        "r2_scores = []\n",
        "\n",
        "# Train and evaluate Bagging Regressor for each number of bootstrap samples\n",
        "for n_estimators in n_estimators_list:\n",
        "    # Initialize the Bagging Regressor with DecisionTreeRegressor as base estimator\n",
        "    bagging = BaggingRegressor(\n",
        "        estimator=DecisionTreeRegressor(),\n",
        "        n_estimators=n_estimators,\n",
        "        bootstrap=True,\n",
        "        random_state=42\n",
        "    )\n",
        "\n",
        "    # Train the model\n",
        "    bagging.fit(X_train, y_train)\n",
        "\n",
        "    # Make predictions\n",
        "    y_pred = bagging.predict(X_test)\n",
        "\n",
        "    # Calculate performance metrics\n",
        "    mse = mean_squared_error(y_test, y_pred)\n",
        "    r2 = r2_score(y_test, y_pred)\n",
        "\n",
        "    # Store the metrics\n",
        "    mse_scores.append(mse)\n",
        "    r2_scores.append(r2)\n",
        "\n",
        "    print(f\"n_estimators: {n_estimators}\")\n",
        "    print(f\"Mean Squared Error: {mse:.4f}\")\n",
        "    print(f\"R² Score: {r2:.4f}\\n\")\n",
        "\n",
        "# Create a chart to visualize the performance metrics\n",
        "plt.figure(figsize=(10, 6))\n",
        "\n",
        "# Plot MSE\n",
        "plt.subplot(1, 2, 1)\n",
        "plt.plot(n_estimators_list, mse_scores, marker='o', color='#1f77b4', label='MSE')\n",
        "plt.xlabel('Number of Bootstrap Samples (n_estimators)')\n",
        "plt.ylabel('Mean Squared Error')\n",
        "plt.title('MSE vs. Number of Bootstrap Samples')\n",
        "plt.grid(True)\n",
        "plt.legend()\n",
        "\n",
        "# Plot R²\n",
        "plt.subplot(1, 2, 2)\n",
        "plt.plot(n_estimators_list, r2_scores, marker='o', color='#ff7f0e', label='R² Score')\n",
        "plt.xlabel('Number of Bootstrap Samples (n_estimators)')\n",
        "plt.ylabel('R² Score')\n",
        "plt.title('R² Score vs. Number of Bootstrap Samples')\n",
        "plt.grid(True)\n",
        "plt.legend()\n",
        "\n",
        "plt.tight_layout()\n",
        "plt.show()"
      ],
      "metadata": {
        "colab": {
          "base_uri": "https://localhost:8080/",
          "height": 972
        },
        "id": "h5cOsnwRSf21",
        "outputId": "0f3e556c-6942-443f-d9e4-5fca308f8a70"
      },
      "execution_count": 48,
      "outputs": [
        {
          "output_type": "stream",
          "name": "stdout",
          "text": [
            "n_estimators: 5\n",
            "Mean Squared Error: 0.3060\n",
            "R² Score: 0.7665\n",
            "\n",
            "n_estimators: 10\n",
            "Mean Squared Error: 0.2824\n",
            "R² Score: 0.7845\n",
            "\n",
            "n_estimators: 20\n",
            "Mean Squared Error: 0.2643\n",
            "R² Score: 0.7983\n",
            "\n",
            "n_estimators: 50\n",
            "Mean Squared Error: 0.2573\n",
            "R² Score: 0.8036\n",
            "\n",
            "n_estimators: 100\n",
            "Mean Squared Error: 0.2559\n",
            "R² Score: 0.8047\n",
            "\n"
          ]
        },
        {
          "output_type": "display_data",
          "data": {
            "text/plain": [
              "<Figure size 1000x600 with 2 Axes>"
            ],
            "image/png": "[encoded data removed]"
          },
          "metadata": {}
        }
      ]
    },
    {
      "cell_type": "code",
      "source": [],
      "metadata": {
        "id": "7k9V7EBgSnBD"
      },
      "execution_count": null,
      "outputs": []
    }
  ]
}