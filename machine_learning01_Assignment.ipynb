{
  "nbformat": 4,
  "nbformat_minor": 0,
  "metadata": {
    "colab": {
      "private_outputs": true,
      "provenance": []
    },
    "kernelspec": {
      "name": "python3",
      "display_name": "Python 3"
    },
    "language_info": {
      "name": "python"
    }
  },
  "cells": [
    {
      "cell_type": "markdown",
      "source": [
        "1. **What is a parameter?**\n",
        "   A parameter is a variable in a model that is learned from the data during training. For example, in linear regression, the coefficients (weights) are parameters.\n",
        "\n",
        "2. **What is correlation?**\n",
        "   Correlation measures the relationship between two variables. It quantifies how one variable changes when the other variable changes. A positive correlation means that as one variable increases, the other does too, while a negative correlation means that as one variable increases, the other decreases.\n",
        "\n",
        "3.   **What does negative correlation mean?**\n",
        "   Negative correlation means that as one variable increases, the other decreases, and vice versa. For example, the relationship between temperature and heating costs might have a negative correlation.\n",
        "\n",
        "4. **Define Machine Learning. What are the main components in Machine Learning?**\n",
        "   Machine Learning is a subset of artificial intelligence that allows systems to learn and improve from experience without being explicitly programmed. The main components include:\n",
        "   - Data: The input used to train the model.\n",
        "   - Model: A mathematical representation of the data.\n",
        "   - Algorithms: Techniques used to train the model.\n",
        "   - Evaluation metrics: Metrics to assess the performance of the model.\n",
        "\n",
        "5. **How does loss value help in determining whether the model is good or not?**\n",
        "   The loss value represents how well or poorly the model performs. A low loss value means the model’s predictions are close to the actual values, indicating good performance. A high loss value indicates poor performance.\n",
        "\n",
        "6.  **What are continuous and categorical variables?**\n",
        "   - Continuous variables are numerical and can take any value within a range (e.g., age, height).\n",
        "   - Categorical variables are non-numerical and represent categories or groups (e.g., color, gender).\n",
        "\n",
        "7. **How do we handle categorical variables in Machine Learning? What are the common techniques?**\n",
        "   Common techniques include:\n",
        "   - **One-Hot Encoding:** Converts categorical variables into a set of binary variables.\n",
        "   - **Label Encoding:** Converts categories into numerical labels.\n",
        "   - **Ordinal Encoding:** For categorical variables with an inherent order, assigns integers to categories based on their rank.\n",
        "\n",
        "8. **What do you mean by training and testing a dataset?**\n",
        "   Training a dataset means using a portion of the data to teach the model, while testing the dataset involves evaluating the model's performance on unseen data.\n",
        "\n",
        "9. **What is sklearn.preprocessing?**\n",
        "   `sklearn.preprocessing` is a module in scikit-learn that provides functions to prepare data, including scaling, encoding, and normalizing data for machine learning.\n",
        "\n",
        "10. **What is a Test set?**\n",
        "   A test set is a portion of the data that is used to evaluate the performance of the model after training. It provides an unbiased estimate of the model's accuracy.\n",
        "\n",
        "11. **How do we split data for model fitting (training and testing) in Python?**\n",
        "   "
      ],
      "metadata": {
        "id": "svBHri4dcHvx"
      }
    },
    {
      "cell_type": "code",
      "source": [
        "!pip install scikit-learn\n",
        "from sklearn.model_selection import train_test_split\n",
        "\n",
        "import numpy as np\n",
        "from sklearn.model_selection import train_test_split\n",
        "\n",
        "# Example data\n",
        "X = np.array([[1, 2], [3, 4], [5, 6], [7, 8]])\n",
        "y = np.array([0, 1, 0, 1])\n",
        "\n",
        "# Split data\n",
        "X_train, X_test, y_train, y_test = train_test_split(X, y, test_size=0.2, random_state=42)\n",
        "\n",
        "print(\"X_train:\", X_train)\n",
        "print(\"X_test:\", X_test)\n",
        "print(\"y_train:\", y_train)\n",
        "print(\"y_test:\", y_test)\n",
        "import numpy as np\n",
        "from sklearn.model_selection import train_test_split\n",
        "\n",
        "# Example data\n",
        "X = np.array([[1, 2], [3, 4], [5, 6], [7, 8]])\n",
        "y = np.array([0, 1, 0, 1])\n",
        "\n",
        "# Split data\n",
        "X_train, X_test, y_train, y_test = train_test_split(X, y, test_size=0.2, random_state=42)\n",
        "\n",
        "print(\"X_train:\", X_train)\n",
        "print(\"X_test:\", X_test)\n",
        "print(\"y_train:\", y_train)\n",
        "print(\"y_test:\", y_test)\n"
      ],
      "metadata": {
        "id": "rpYKYXmZclSZ"
      },
      "execution_count": null,
      "outputs": []
    },
    {
      "cell_type": "markdown",
      "source": [
        "\n",
        "12.**How do you approach a Machine Learning problem?**\n",
        "   - Understand the problem and define the goal.\n",
        "   - Collect and clean the data.\n",
        "   - Perform exploratory data analysis (EDA).\n",
        "   - Split the data into training and testing sets.\n",
        "   - Choose a model and train it.\n",
        "   - Evaluate the model using metrics.\n",
        "   - Tune the model for better performance.\n",
        "\n",
        "13. **Why do we have to perform EDA before fitting a model to the data?**\n",
        "    EDA helps to understand the data, identify patterns, detect outliers, and make decisions about preprocessing, ensuring that the data is suitable for the model.\n",
        "\n",
        "14. **What is causation? Explain the difference between correlation and causation with an example.**\n",
        "    Causation implies that one event directly causes another. In contrast, correlation simply indicates a relationship between two variables, but it doesn’t mean one causes the other.\n",
        "\n",
        "    **Example:**\n",
        "15.  - **Correlation**: There may be a correlation between ice cream sales and the number of people swimming, but one doesn't cause the other.\n",
        "    - **Causation**: Smoking causes lung cancer.\n",
        "\n",
        "16. **What is an Optimizer? What are different types of optimizers? Explain each with an example.**\n",
        "    An optimizer adjusts the weights and parameters of a machine learning model to minimize the loss function.\n",
        "17.   - **Stochastic Gradient Descent (SGD)**: Updates parameters in small steps after each training example.\n",
        "18. - **Adam (Adaptive Moment Estimation)**: Combines the advantages of SGD with adaptive learning rates for better convergence.\n",
        "19.  - **RMSprop**: Modifies the learning rate based on the average of recent gradient magnitudes.\n",
        "\n",
        "20. **What is sklearn.linear_model?**\n",
        "    `sklearn.linear_model` is a module in scikit-learn that contains linear models, such as Linear Regression, Logistic Regression, and Ridge Regression.\n",
        "\n",
        "21. **What does model.fit() do? What arguments must be given?**\n",
        "    `model.fit()` trains the model using input data (features) and corresponding target values (labels).\n",
        "    - Arguments:\n",
        "      - **X**: Training data (features)\n",
        "      - **y**: Target values (labels)\n",
        "\n",
        "22. **What does model.predict() do? What arguments must be given?**\n",
        "    `model.predict()` uses the trained model to make predictions on new, unseen data.\n",
        "    - Argument:\n",
        "      - **X**: Data for which predictions are to be made\n",
        "\n",
        "23. **What is feature scaling? How does it help in Machine Learning?**\n",
        "    Feature scaling normalizes the range of independent variables or features. It helps in improving the performance of models that are sensitive to the scale, like Support Vector Machines or K-Nearest Neighbors.\n",
        "\n",
        "24. **How do we perform scaling in Python?**\n",
        "    Using `sklearn.preprocessing`, you can scale data using `StandardScaler` or `MinMaxScaler`:\n",
        "    ```python\n",
        "    from sklearn.preprocessing import StandardScaler\n",
        "    scaler = StandardScaler()\n",
        "    X_scaled = scaler.fit_transform(X)\n",
        "    ```\n",
        "\n",
        "25. **How do we split data for model fitting (training and testing) in Python?**\n",
        "    This was answered earlier using `train_test_split`.\n",
        "\n",
        "  . **Explain data encoding.**\n",
        "    Data encoding converts categorical variables into a format that can be fed into machine learning algorithms, such as using one-hot encoding or label encoding.\n"
      ],
      "metadata": {
        "id": "b8YBuN9bcq6y"
      }
    },
    {
      "cell_type": "code",
      "source": [],
      "metadata": {
        "id": "Az1l6Ty6cPCx"
      },
      "execution_count": null,
      "outputs": []
    },
    {
      "cell_type": "markdown",
      "source": [],
      "metadata": {
        "id": "X1_tWxAza42C"
      }
    }
  ]
}